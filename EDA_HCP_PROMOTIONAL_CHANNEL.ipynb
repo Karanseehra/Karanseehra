{
  "cells": [
    {
      "cell_type": "code",
      "execution_count": null,
      "metadata": {
        "id": "lRPYYFT7f0C2"
      },
      "outputs": [],
      "source": [
        "import numpy as np\n",
        "import matplotlib.pyplot as plt\n",
        "import seaborn as sns\n",
        "import pandas as pd\n"
      ]
    },
    {
      "cell_type": "code",
      "execution_count": null,
      "metadata": {
        "id": "x8ZyF86KgGrs"
      },
      "outputs": [],
      "source": [
        "df_HVC = pd.read_excel('HCP_Data_KDAG_Hackathon.xlsx')"
      ]
    },
    {
      "cell_type": "markdown",
      "metadata": {
        "id": "SCo8SEq_e5bc"
      },
      "source": [
        "**Observation** \n",
        "\n",
        "1. There are total of 10000 HCPs data"
      ]
    },
    {
      "cell_type": "markdown",
      "metadata": {
        "id": "ZugqaTCE7utJ"
      },
      "source": [
        "## Exploratory Data Analysis"
      ]
    },
    {
      "cell_type": "code",
      "execution_count": null,
      "metadata": {
        "colab": {
          "base_uri": "https://localhost:8080/"
        },
        "id": "5-kKvCDif2Qq",
        "outputId": "4a8c410b-58d4-408b-a2d8-7214f3d1053a"
      },
      "outputs": [
        {
          "output_type": "execute_result",
          "data": {
            "text/plain": [
              "(570000, 11)"
            ]
          },
          "metadata": {},
          "execution_count": 5
        }
      ],
      "source": [
        "df_HVC.shape"
      ]
    },
    {
      "cell_type": "code",
      "execution_count": null,
      "metadata": {
        "colab": {
          "base_uri": "https://localhost:8080/"
        },
        "id": "-QoqGqIof9OL",
        "outputId": "64fe0b78-8d9f-4d84-dbc6-2e5be173199e"
      },
      "outputs": [
        {
          "output_type": "execute_result",
          "data": {
            "text/plain": [
              "Physician_ID                  object\n",
              "Time_Period                    int64\n",
              "Brand_Rx                     float64\n",
              "Market_Rx                    float64\n",
              "Sales_Rep_Calls                int64\n",
              "Samples_Dropped                int64\n",
              "Physician_Segment             object\n",
              "Emails_Delivered               int64\n",
              "Speaker_Programs_Attended      int64\n",
              "Vouchers_Dropped               int64\n",
              "Specialty                     object\n",
              "dtype: object"
            ]
          },
          "metadata": {},
          "execution_count": 6
        }
      ],
      "source": [
        "df_HVC.dtypes"
      ]
    },
    {
      "cell_type": "code",
      "execution_count": null,
      "metadata": {
        "colab": {
          "base_uri": "https://localhost:8080/"
        },
        "id": "iT81xqi-gwRQ",
        "outputId": "a10fe69c-b7a8-471c-deaf-0d20e4d80882"
      },
      "outputs": [
        {
          "output_type": "execute_result",
          "data": {
            "text/plain": [
              "3"
            ]
          },
          "metadata": {},
          "execution_count": 7
        }
      ],
      "source": [
        "df_HVC['Physician_Segment'].nunique()"
      ]
    },
    {
      "cell_type": "code",
      "execution_count": null,
      "metadata": {
        "colab": {
          "base_uri": "https://localhost:8080/"
        },
        "id": "v2FxQA_p4nTe",
        "outputId": "524ed473-d282-48c4-fa93-50dae9dfbaa2"
      },
      "outputs": [
        {
          "output_type": "execute_result",
          "data": {
            "text/plain": [
              "566751"
            ]
          },
          "metadata": {},
          "execution_count": 8
        }
      ],
      "source": [
        "df_HVC['Speaker_Programs_Attended'].isin([0]).sum()"
      ]
    },
    {
      "cell_type": "markdown",
      "metadata": {
        "id": "jZGoPxdF6pwq"
      },
      "source": [
        "**Observation**\n",
        "\n",
        "1. Almost all of the values under this column is 0 so we will better    drop this column"
      ]
    },
    {
      "cell_type": "code",
      "execution_count": null,
      "metadata": {
        "id": "Ka5kMq2961Py"
      },
      "outputs": [],
      "source": [
        "#Dropping Speaker_Programs_Attended column\n",
        "df_HVC.drop('Speaker_Programs_Attended', axis = 1, inplace =True)"
      ]
    },
    {
      "cell_type": "code",
      "execution_count": null,
      "metadata": {
        "colab": {
          "base_uri": "https://localhost:8080/",
          "height": 270
        },
        "id": "3_dqrX_C8NGc",
        "outputId": "8dcadf8e-f89f-43a1-d277-13d3426ebb3b"
      },
      "outputs": [
        {
          "output_type": "execute_result",
          "data": {
            "text/plain": [
              "  Physician_ID  Time_Period  Brand_Rx  Market_Rx  Sales_Rep_Calls  \\\n",
              "0     axt00001     20190104       0.0    2.80567                1   \n",
              "1     axt00001     20190111       0.0   20.57312                1   \n",
              "2     axt00001     20190118       0.0    6.16010                1   \n",
              "3     axt00001     20190125       0.0    8.95501                1   \n",
              "4     axt00001     20190201       0.0    9.13793                1   \n",
              "\n",
              "   Samples_Dropped Physician_Segment  Emails_Delivered  Vouchers_Dropped  \\\n",
              "0                0             3-Low                 0                 0   \n",
              "1                0             3-Low                 0                 0   \n",
              "2                0             3-Low                 0                 0   \n",
              "3                5             3-Low                 0                 0   \n",
              "4                0             3-Low                 0                 0   \n",
              "\n",
              "       Specialty  \n",
              "0  Dermatologist  \n",
              "1  Dermatologist  \n",
              "2  Dermatologist  \n",
              "3  Dermatologist  \n",
              "4  Dermatologist  "
            ],
            "text/html": [
              "\n",
              "  <div id=\"df-a13e57cb-8c8b-4cea-bf67-b318c2092a8d\">\n",
              "    <div class=\"colab-df-container\">\n",
              "      <div>\n",
              "<style scoped>\n",
              "    .dataframe tbody tr th:only-of-type {\n",
              "        vertical-align: middle;\n",
              "    }\n",
              "\n",
              "    .dataframe tbody tr th {\n",
              "        vertical-align: top;\n",
              "    }\n",
              "\n",
              "    .dataframe thead th {\n",
              "        text-align: right;\n",
              "    }\n",
              "</style>\n",
              "<table border=\"1\" class=\"dataframe\">\n",
              "  <thead>\n",
              "    <tr style=\"text-align: right;\">\n",
              "      <th></th>\n",
              "      <th>Physician_ID</th>\n",
              "      <th>Time_Period</th>\n",
              "      <th>Brand_Rx</th>\n",
              "      <th>Market_Rx</th>\n",
              "      <th>Sales_Rep_Calls</th>\n",
              "      <th>Samples_Dropped</th>\n",
              "      <th>Physician_Segment</th>\n",
              "      <th>Emails_Delivered</th>\n",
              "      <th>Vouchers_Dropped</th>\n",
              "      <th>Specialty</th>\n",
              "    </tr>\n",
              "  </thead>\n",
              "  <tbody>\n",
              "    <tr>\n",
              "      <th>0</th>\n",
              "      <td>axt00001</td>\n",
              "      <td>20190104</td>\n",
              "      <td>0.0</td>\n",
              "      <td>2.80567</td>\n",
              "      <td>1</td>\n",
              "      <td>0</td>\n",
              "      <td>3-Low</td>\n",
              "      <td>0</td>\n",
              "      <td>0</td>\n",
              "      <td>Dermatologist</td>\n",
              "    </tr>\n",
              "    <tr>\n",
              "      <th>1</th>\n",
              "      <td>axt00001</td>\n",
              "      <td>20190111</td>\n",
              "      <td>0.0</td>\n",
              "      <td>20.57312</td>\n",
              "      <td>1</td>\n",
              "      <td>0</td>\n",
              "      <td>3-Low</td>\n",
              "      <td>0</td>\n",
              "      <td>0</td>\n",
              "      <td>Dermatologist</td>\n",
              "    </tr>\n",
              "    <tr>\n",
              "      <th>2</th>\n",
              "      <td>axt00001</td>\n",
              "      <td>20190118</td>\n",
              "      <td>0.0</td>\n",
              "      <td>6.16010</td>\n",
              "      <td>1</td>\n",
              "      <td>0</td>\n",
              "      <td>3-Low</td>\n",
              "      <td>0</td>\n",
              "      <td>0</td>\n",
              "      <td>Dermatologist</td>\n",
              "    </tr>\n",
              "    <tr>\n",
              "      <th>3</th>\n",
              "      <td>axt00001</td>\n",
              "      <td>20190125</td>\n",
              "      <td>0.0</td>\n",
              "      <td>8.95501</td>\n",
              "      <td>1</td>\n",
              "      <td>5</td>\n",
              "      <td>3-Low</td>\n",
              "      <td>0</td>\n",
              "      <td>0</td>\n",
              "      <td>Dermatologist</td>\n",
              "    </tr>\n",
              "    <tr>\n",
              "      <th>4</th>\n",
              "      <td>axt00001</td>\n",
              "      <td>20190201</td>\n",
              "      <td>0.0</td>\n",
              "      <td>9.13793</td>\n",
              "      <td>1</td>\n",
              "      <td>0</td>\n",
              "      <td>3-Low</td>\n",
              "      <td>0</td>\n",
              "      <td>0</td>\n",
              "      <td>Dermatologist</td>\n",
              "    </tr>\n",
              "  </tbody>\n",
              "</table>\n",
              "</div>\n",
              "      <button class=\"colab-df-convert\" onclick=\"convertToInteractive('df-a13e57cb-8c8b-4cea-bf67-b318c2092a8d')\"\n",
              "              title=\"Convert this dataframe to an interactive table.\"\n",
              "              style=\"display:none;\">\n",
              "        \n",
              "  <svg xmlns=\"http://www.w3.org/2000/svg\" height=\"24px\"viewBox=\"0 0 24 24\"\n",
              "       width=\"24px\">\n",
              "    <path d=\"M0 0h24v24H0V0z\" fill=\"none\"/>\n",
              "    <path d=\"M18.56 5.44l.94 2.06.94-2.06 2.06-.94-2.06-.94-.94-2.06-.94 2.06-2.06.94zm-11 1L8.5 8.5l.94-2.06 2.06-.94-2.06-.94L8.5 2.5l-.94 2.06-2.06.94zm10 10l.94 2.06.94-2.06 2.06-.94-2.06-.94-.94-2.06-.94 2.06-2.06.94z\"/><path d=\"M17.41 7.96l-1.37-1.37c-.4-.4-.92-.59-1.43-.59-.52 0-1.04.2-1.43.59L10.3 9.45l-7.72 7.72c-.78.78-.78 2.05 0 2.83L4 21.41c.39.39.9.59 1.41.59.51 0 1.02-.2 1.41-.59l7.78-7.78 2.81-2.81c.8-.78.8-2.07 0-2.86zM5.41 20L4 18.59l7.72-7.72 1.47 1.35L5.41 20z\"/>\n",
              "  </svg>\n",
              "      </button>\n",
              "      \n",
              "  <style>\n",
              "    .colab-df-container {\n",
              "      display:flex;\n",
              "      flex-wrap:wrap;\n",
              "      gap: 12px;\n",
              "    }\n",
              "\n",
              "    .colab-df-convert {\n",
              "      background-color: #E8F0FE;\n",
              "      border: none;\n",
              "      border-radius: 50%;\n",
              "      cursor: pointer;\n",
              "      display: none;\n",
              "      fill: #1967D2;\n",
              "      height: 32px;\n",
              "      padding: 0 0 0 0;\n",
              "      width: 32px;\n",
              "    }\n",
              "\n",
              "    .colab-df-convert:hover {\n",
              "      background-color: #E2EBFA;\n",
              "      box-shadow: 0px 1px 2px rgba(60, 64, 67, 0.3), 0px 1px 3px 1px rgba(60, 64, 67, 0.15);\n",
              "      fill: #174EA6;\n",
              "    }\n",
              "\n",
              "    [theme=dark] .colab-df-convert {\n",
              "      background-color: #3B4455;\n",
              "      fill: #D2E3FC;\n",
              "    }\n",
              "\n",
              "    [theme=dark] .colab-df-convert:hover {\n",
              "      background-color: #434B5C;\n",
              "      box-shadow: 0px 1px 3px 1px rgba(0, 0, 0, 0.15);\n",
              "      filter: drop-shadow(0px 1px 2px rgba(0, 0, 0, 0.3));\n",
              "      fill: #FFFFFF;\n",
              "    }\n",
              "  </style>\n",
              "\n",
              "      <script>\n",
              "        const buttonEl =\n",
              "          document.querySelector('#df-a13e57cb-8c8b-4cea-bf67-b318c2092a8d button.colab-df-convert');\n",
              "        buttonEl.style.display =\n",
              "          google.colab.kernel.accessAllowed ? 'block' : 'none';\n",
              "\n",
              "        async function convertToInteractive(key) {\n",
              "          const element = document.querySelector('#df-a13e57cb-8c8b-4cea-bf67-b318c2092a8d');\n",
              "          const dataTable =\n",
              "            await google.colab.kernel.invokeFunction('convertToInteractive',\n",
              "                                                     [key], {});\n",
              "          if (!dataTable) return;\n",
              "\n",
              "          const docLinkHtml = 'Like what you see? Visit the ' +\n",
              "            '<a target=\"_blank\" href=https://colab.research.google.com/notebooks/data_table.ipynb>data table notebook</a>'\n",
              "            + ' to learn more about interactive tables.';\n",
              "          element.innerHTML = '';\n",
              "          dataTable['output_type'] = 'display_data';\n",
              "          await google.colab.output.renderOutput(dataTable, element);\n",
              "          const docLink = document.createElement('div');\n",
              "          docLink.innerHTML = docLinkHtml;\n",
              "          element.appendChild(docLink);\n",
              "        }\n",
              "      </script>\n",
              "    </div>\n",
              "  </div>\n",
              "  "
            ]
          },
          "metadata": {},
          "execution_count": 10
        }
      ],
      "source": [
        "df_HVC.head()"
      ]
    },
    {
      "cell_type": "markdown",
      "metadata": {
        "id": "EBEmna138eMu"
      },
      "source": [
        "**NOTE** \n",
        "\n",
        "The Time_Period column is also not of that significance since no particular date will be that useful in the prediction of Brand_Rx"
      ]
    },
    {
      "cell_type": "code",
      "execution_count": null,
      "metadata": {
        "id": "fMX_YDm686ov"
      },
      "outputs": [],
      "source": [
        "df_HVC.drop('Time_Period', axis =1, inplace =True)"
      ]
    },
    {
      "cell_type": "code",
      "execution_count": null,
      "metadata": {
        "colab": {
          "base_uri": "https://localhost:8080/",
          "height": 206
        },
        "id": "PURoO1P_9Coq",
        "outputId": "30c9b369-a44e-4f9b-bd28-4cabf90ffaca"
      },
      "outputs": [
        {
          "output_type": "execute_result",
          "data": {
            "text/plain": [
              "  Physician_ID  Brand_Rx  Market_Rx  Sales_Rep_Calls  Samples_Dropped  \\\n",
              "0     axt00001       0.0    2.80567                1                0   \n",
              "1     axt00001       0.0   20.57312                1                0   \n",
              "2     axt00001       0.0    6.16010                1                0   \n",
              "3     axt00001       0.0    8.95501                1                5   \n",
              "4     axt00001       0.0    9.13793                1                0   \n",
              "\n",
              "  Physician_Segment  Emails_Delivered  Vouchers_Dropped      Specialty  \n",
              "0             3-Low                 0                 0  Dermatologist  \n",
              "1             3-Low                 0                 0  Dermatologist  \n",
              "2             3-Low                 0                 0  Dermatologist  \n",
              "3             3-Low                 0                 0  Dermatologist  \n",
              "4             3-Low                 0                 0  Dermatologist  "
            ],
            "text/html": [
              "\n",
              "  <div id=\"df-9d67e090-96f9-4a44-bd73-efb4e3f552b8\">\n",
              "    <div class=\"colab-df-container\">\n",
              "      <div>\n",
              "<style scoped>\n",
              "    .dataframe tbody tr th:only-of-type {\n",
              "        vertical-align: middle;\n",
              "    }\n",
              "\n",
              "    .dataframe tbody tr th {\n",
              "        vertical-align: top;\n",
              "    }\n",
              "\n",
              "    .dataframe thead th {\n",
              "        text-align: right;\n",
              "    }\n",
              "</style>\n",
              "<table border=\"1\" class=\"dataframe\">\n",
              "  <thead>\n",
              "    <tr style=\"text-align: right;\">\n",
              "      <th></th>\n",
              "      <th>Physician_ID</th>\n",
              "      <th>Brand_Rx</th>\n",
              "      <th>Market_Rx</th>\n",
              "      <th>Sales_Rep_Calls</th>\n",
              "      <th>Samples_Dropped</th>\n",
              "      <th>Physician_Segment</th>\n",
              "      <th>Emails_Delivered</th>\n",
              "      <th>Vouchers_Dropped</th>\n",
              "      <th>Specialty</th>\n",
              "    </tr>\n",
              "  </thead>\n",
              "  <tbody>\n",
              "    <tr>\n",
              "      <th>0</th>\n",
              "      <td>axt00001</td>\n",
              "      <td>0.0</td>\n",
              "      <td>2.80567</td>\n",
              "      <td>1</td>\n",
              "      <td>0</td>\n",
              "      <td>3-Low</td>\n",
              "      <td>0</td>\n",
              "      <td>0</td>\n",
              "      <td>Dermatologist</td>\n",
              "    </tr>\n",
              "    <tr>\n",
              "      <th>1</th>\n",
              "      <td>axt00001</td>\n",
              "      <td>0.0</td>\n",
              "      <td>20.57312</td>\n",
              "      <td>1</td>\n",
              "      <td>0</td>\n",
              "      <td>3-Low</td>\n",
              "      <td>0</td>\n",
              "      <td>0</td>\n",
              "      <td>Dermatologist</td>\n",
              "    </tr>\n",
              "    <tr>\n",
              "      <th>2</th>\n",
              "      <td>axt00001</td>\n",
              "      <td>0.0</td>\n",
              "      <td>6.16010</td>\n",
              "      <td>1</td>\n",
              "      <td>0</td>\n",
              "      <td>3-Low</td>\n",
              "      <td>0</td>\n",
              "      <td>0</td>\n",
              "      <td>Dermatologist</td>\n",
              "    </tr>\n",
              "    <tr>\n",
              "      <th>3</th>\n",
              "      <td>axt00001</td>\n",
              "      <td>0.0</td>\n",
              "      <td>8.95501</td>\n",
              "      <td>1</td>\n",
              "      <td>5</td>\n",
              "      <td>3-Low</td>\n",
              "      <td>0</td>\n",
              "      <td>0</td>\n",
              "      <td>Dermatologist</td>\n",
              "    </tr>\n",
              "    <tr>\n",
              "      <th>4</th>\n",
              "      <td>axt00001</td>\n",
              "      <td>0.0</td>\n",
              "      <td>9.13793</td>\n",
              "      <td>1</td>\n",
              "      <td>0</td>\n",
              "      <td>3-Low</td>\n",
              "      <td>0</td>\n",
              "      <td>0</td>\n",
              "      <td>Dermatologist</td>\n",
              "    </tr>\n",
              "  </tbody>\n",
              "</table>\n",
              "</div>\n",
              "      <button class=\"colab-df-convert\" onclick=\"convertToInteractive('df-9d67e090-96f9-4a44-bd73-efb4e3f552b8')\"\n",
              "              title=\"Convert this dataframe to an interactive table.\"\n",
              "              style=\"display:none;\">\n",
              "        \n",
              "  <svg xmlns=\"http://www.w3.org/2000/svg\" height=\"24px\"viewBox=\"0 0 24 24\"\n",
              "       width=\"24px\">\n",
              "    <path d=\"M0 0h24v24H0V0z\" fill=\"none\"/>\n",
              "    <path d=\"M18.56 5.44l.94 2.06.94-2.06 2.06-.94-2.06-.94-.94-2.06-.94 2.06-2.06.94zm-11 1L8.5 8.5l.94-2.06 2.06-.94-2.06-.94L8.5 2.5l-.94 2.06-2.06.94zm10 10l.94 2.06.94-2.06 2.06-.94-2.06-.94-.94-2.06-.94 2.06-2.06.94z\"/><path d=\"M17.41 7.96l-1.37-1.37c-.4-.4-.92-.59-1.43-.59-.52 0-1.04.2-1.43.59L10.3 9.45l-7.72 7.72c-.78.78-.78 2.05 0 2.83L4 21.41c.39.39.9.59 1.41.59.51 0 1.02-.2 1.41-.59l7.78-7.78 2.81-2.81c.8-.78.8-2.07 0-2.86zM5.41 20L4 18.59l7.72-7.72 1.47 1.35L5.41 20z\"/>\n",
              "  </svg>\n",
              "      </button>\n",
              "      \n",
              "  <style>\n",
              "    .colab-df-container {\n",
              "      display:flex;\n",
              "      flex-wrap:wrap;\n",
              "      gap: 12px;\n",
              "    }\n",
              "\n",
              "    .colab-df-convert {\n",
              "      background-color: #E8F0FE;\n",
              "      border: none;\n",
              "      border-radius: 50%;\n",
              "      cursor: pointer;\n",
              "      display: none;\n",
              "      fill: #1967D2;\n",
              "      height: 32px;\n",
              "      padding: 0 0 0 0;\n",
              "      width: 32px;\n",
              "    }\n",
              "\n",
              "    .colab-df-convert:hover {\n",
              "      background-color: #E2EBFA;\n",
              "      box-shadow: 0px 1px 2px rgba(60, 64, 67, 0.3), 0px 1px 3px 1px rgba(60, 64, 67, 0.15);\n",
              "      fill: #174EA6;\n",
              "    }\n",
              "\n",
              "    [theme=dark] .colab-df-convert {\n",
              "      background-color: #3B4455;\n",
              "      fill: #D2E3FC;\n",
              "    }\n",
              "\n",
              "    [theme=dark] .colab-df-convert:hover {\n",
              "      background-color: #434B5C;\n",
              "      box-shadow: 0px 1px 3px 1px rgba(0, 0, 0, 0.15);\n",
              "      filter: drop-shadow(0px 1px 2px rgba(0, 0, 0, 0.3));\n",
              "      fill: #FFFFFF;\n",
              "    }\n",
              "  </style>\n",
              "\n",
              "      <script>\n",
              "        const buttonEl =\n",
              "          document.querySelector('#df-9d67e090-96f9-4a44-bd73-efb4e3f552b8 button.colab-df-convert');\n",
              "        buttonEl.style.display =\n",
              "          google.colab.kernel.accessAllowed ? 'block' : 'none';\n",
              "\n",
              "        async function convertToInteractive(key) {\n",
              "          const element = document.querySelector('#df-9d67e090-96f9-4a44-bd73-efb4e3f552b8');\n",
              "          const dataTable =\n",
              "            await google.colab.kernel.invokeFunction('convertToInteractive',\n",
              "                                                     [key], {});\n",
              "          if (!dataTable) return;\n",
              "\n",
              "          const docLinkHtml = 'Like what you see? Visit the ' +\n",
              "            '<a target=\"_blank\" href=https://colab.research.google.com/notebooks/data_table.ipynb>data table notebook</a>'\n",
              "            + ' to learn more about interactive tables.';\n",
              "          element.innerHTML = '';\n",
              "          dataTable['output_type'] = 'display_data';\n",
              "          await google.colab.output.renderOutput(dataTable, element);\n",
              "          const docLink = document.createElement('div');\n",
              "          docLink.innerHTML = docLinkHtml;\n",
              "          element.appendChild(docLink);\n",
              "        }\n",
              "      </script>\n",
              "    </div>\n",
              "  </div>\n",
              "  "
            ]
          },
          "metadata": {},
          "execution_count": 12
        }
      ],
      "source": [
        "df_HVC.head()"
      ]
    },
    {
      "cell_type": "code",
      "execution_count": null,
      "metadata": {
        "colab": {
          "base_uri": "https://localhost:8080/",
          "height": 143
        },
        "id": "7JzhUDEl9OAU",
        "outputId": "94451b2a-7569-4a7f-9f73-78bf9c010d29"
      },
      "outputs": [
        {
          "output_type": "execute_result",
          "data": {
            "text/plain": [
              "            Specialty    Brand_Rx\n",
              "0       Dermatologist  318419.943\n",
              "1   General Physician   58398.792\n",
              "2  Nurse Practitioner   12393.318"
            ],
            "text/html": [
              "\n",
              "  <div id=\"df-a82debc2-d7ae-480f-9ffa-6a5d3be80932\">\n",
              "    <div class=\"colab-df-container\">\n",
              "      <div>\n",
              "<style scoped>\n",
              "    .dataframe tbody tr th:only-of-type {\n",
              "        vertical-align: middle;\n",
              "    }\n",
              "\n",
              "    .dataframe tbody tr th {\n",
              "        vertical-align: top;\n",
              "    }\n",
              "\n",
              "    .dataframe thead th {\n",
              "        text-align: right;\n",
              "    }\n",
              "</style>\n",
              "<table border=\"1\" class=\"dataframe\">\n",
              "  <thead>\n",
              "    <tr style=\"text-align: right;\">\n",
              "      <th></th>\n",
              "      <th>Specialty</th>\n",
              "      <th>Brand_Rx</th>\n",
              "    </tr>\n",
              "  </thead>\n",
              "  <tbody>\n",
              "    <tr>\n",
              "      <th>0</th>\n",
              "      <td>Dermatologist</td>\n",
              "      <td>318419.943</td>\n",
              "    </tr>\n",
              "    <tr>\n",
              "      <th>1</th>\n",
              "      <td>General Physician</td>\n",
              "      <td>58398.792</td>\n",
              "    </tr>\n",
              "    <tr>\n",
              "      <th>2</th>\n",
              "      <td>Nurse Practitioner</td>\n",
              "      <td>12393.318</td>\n",
              "    </tr>\n",
              "  </tbody>\n",
              "</table>\n",
              "</div>\n",
              "      <button class=\"colab-df-convert\" onclick=\"convertToInteractive('df-a82debc2-d7ae-480f-9ffa-6a5d3be80932')\"\n",
              "              title=\"Convert this dataframe to an interactive table.\"\n",
              "              style=\"display:none;\">\n",
              "        \n",
              "  <svg xmlns=\"http://www.w3.org/2000/svg\" height=\"24px\"viewBox=\"0 0 24 24\"\n",
              "       width=\"24px\">\n",
              "    <path d=\"M0 0h24v24H0V0z\" fill=\"none\"/>\n",
              "    <path d=\"M18.56 5.44l.94 2.06.94-2.06 2.06-.94-2.06-.94-.94-2.06-.94 2.06-2.06.94zm-11 1L8.5 8.5l.94-2.06 2.06-.94-2.06-.94L8.5 2.5l-.94 2.06-2.06.94zm10 10l.94 2.06.94-2.06 2.06-.94-2.06-.94-.94-2.06-.94 2.06-2.06.94z\"/><path d=\"M17.41 7.96l-1.37-1.37c-.4-.4-.92-.59-1.43-.59-.52 0-1.04.2-1.43.59L10.3 9.45l-7.72 7.72c-.78.78-.78 2.05 0 2.83L4 21.41c.39.39.9.59 1.41.59.51 0 1.02-.2 1.41-.59l7.78-7.78 2.81-2.81c.8-.78.8-2.07 0-2.86zM5.41 20L4 18.59l7.72-7.72 1.47 1.35L5.41 20z\"/>\n",
              "  </svg>\n",
              "      </button>\n",
              "      \n",
              "  <style>\n",
              "    .colab-df-container {\n",
              "      display:flex;\n",
              "      flex-wrap:wrap;\n",
              "      gap: 12px;\n",
              "    }\n",
              "\n",
              "    .colab-df-convert {\n",
              "      background-color: #E8F0FE;\n",
              "      border: none;\n",
              "      border-radius: 50%;\n",
              "      cursor: pointer;\n",
              "      display: none;\n",
              "      fill: #1967D2;\n",
              "      height: 32px;\n",
              "      padding: 0 0 0 0;\n",
              "      width: 32px;\n",
              "    }\n",
              "\n",
              "    .colab-df-convert:hover {\n",
              "      background-color: #E2EBFA;\n",
              "      box-shadow: 0px 1px 2px rgba(60, 64, 67, 0.3), 0px 1px 3px 1px rgba(60, 64, 67, 0.15);\n",
              "      fill: #174EA6;\n",
              "    }\n",
              "\n",
              "    [theme=dark] .colab-df-convert {\n",
              "      background-color: #3B4455;\n",
              "      fill: #D2E3FC;\n",
              "    }\n",
              "\n",
              "    [theme=dark] .colab-df-convert:hover {\n",
              "      background-color: #434B5C;\n",
              "      box-shadow: 0px 1px 3px 1px rgba(0, 0, 0, 0.15);\n",
              "      filter: drop-shadow(0px 1px 2px rgba(0, 0, 0, 0.3));\n",
              "      fill: #FFFFFF;\n",
              "    }\n",
              "  </style>\n",
              "\n",
              "      <script>\n",
              "        const buttonEl =\n",
              "          document.querySelector('#df-a82debc2-d7ae-480f-9ffa-6a5d3be80932 button.colab-df-convert');\n",
              "        buttonEl.style.display =\n",
              "          google.colab.kernel.accessAllowed ? 'block' : 'none';\n",
              "\n",
              "        async function convertToInteractive(key) {\n",
              "          const element = document.querySelector('#df-a82debc2-d7ae-480f-9ffa-6a5d3be80932');\n",
              "          const dataTable =\n",
              "            await google.colab.kernel.invokeFunction('convertToInteractive',\n",
              "                                                     [key], {});\n",
              "          if (!dataTable) return;\n",
              "\n",
              "          const docLinkHtml = 'Like what you see? Visit the ' +\n",
              "            '<a target=\"_blank\" href=https://colab.research.google.com/notebooks/data_table.ipynb>data table notebook</a>'\n",
              "            + ' to learn more about interactive tables.';\n",
              "          element.innerHTML = '';\n",
              "          dataTable['output_type'] = 'display_data';\n",
              "          await google.colab.output.renderOutput(dataTable, element);\n",
              "          const docLink = document.createElement('div');\n",
              "          docLink.innerHTML = docLinkHtml;\n",
              "          element.appendChild(docLink);\n",
              "        }\n",
              "      </script>\n",
              "    </div>\n",
              "  </div>\n",
              "  "
            ]
          },
          "metadata": {},
          "execution_count": 13
        }
      ],
      "source": [
        "df_Specialty = df_HVC.groupby(['Specialty']).sum()['Brand_Rx'].to_frame().reset_index()\n",
        "df_Specialty"
      ]
    },
    {
      "cell_type": "code",
      "execution_count": null,
      "metadata": {
        "colab": {
          "base_uri": "https://localhost:8080/",
          "height": 296
        },
        "id": "VkktLfPONuhJ",
        "outputId": "84d3970a-41c6-4663-fe3b-5843c340a666"
      },
      "outputs": [
        {
          "output_type": "execute_result",
          "data": {
            "text/plain": [
              "<matplotlib.axes._subplots.AxesSubplot at 0x7fcd0ab591f0>"
            ]
          },
          "metadata": {},
          "execution_count": 14
        },
        {
          "output_type": "display_data",
          "data": {
            "text/plain": [
              "<Figure size 432x288 with 1 Axes>"
            ],
            "image/png": "[encoded data removed]"
          },
          "metadata": {
            "needs_background": "light"
          }
        }
      ],
      "source": [
        "sns.barplot(x = 'Specialty', y ='Brand_Rx', data = df_HVC.groupby(['Specialty']).sum()['Brand_Rx'].to_frame().reset_index())"
      ]
    },
    {
      "cell_type": "code",
      "execution_count": null,
      "metadata": {
        "colab": {
          "base_uri": "https://localhost:8080/"
        },
        "id": "hV-lmjh9Quyw",
        "outputId": "562c035f-8556-402f-9120-45f3a74c0b14"
      },
      "outputs": [
        {
          "output_type": "execute_result",
          "data": {
            "text/plain": [
              "Dermatologist         456798\n",
              "General Physician      90687\n",
              "Nurse Practitioner     22515\n",
              "Name: Specialty, dtype: int64"
            ]
          },
          "metadata": {},
          "execution_count": 15
        }
      ],
      "source": [
        "df_HVC['Specialty'].value_counts()"
      ]
    },
    {
      "cell_type": "code",
      "execution_count": null,
      "metadata": {
        "id": "M59oWWnRTlDS",
        "colab": {
          "base_uri": "https://localhost:8080/",
          "height": 143
        },
        "outputId": "aeddfbda-4143-4596-f048-6166cdf38bab"
      },
      "outputs": [
        {
          "output_type": "execute_result",
          "data": {
            "text/plain": [
              "            Specialty    Brand_Rx   Total\n",
              "0       Dermatologist  318419.943  456798\n",
              "1   General Physician   58398.792   90687\n",
              "2  Nurse Practitioner   12393.318   22515"
            ],
            "text/html": [
              "\n",
              "  <div id=\"df-5efbdf40-6f5c-4f49-83db-b78a5b4aecfc\">\n",
              "    <div class=\"colab-df-container\">\n",
              "      <div>\n",
              "<style scoped>\n",
              "    .dataframe tbody tr th:only-of-type {\n",
              "        vertical-align: middle;\n",
              "    }\n",
              "\n",
              "    .dataframe tbody tr th {\n",
              "        vertical-align: top;\n",
              "    }\n",
              "\n",
              "    .dataframe thead th {\n",
              "        text-align: right;\n",
              "    }\n",
              "</style>\n",
              "<table border=\"1\" class=\"dataframe\">\n",
              "  <thead>\n",
              "    <tr style=\"text-align: right;\">\n",
              "      <th></th>\n",
              "      <th>Specialty</th>\n",
              "      <th>Brand_Rx</th>\n",
              "      <th>Total</th>\n",
              "    </tr>\n",
              "  </thead>\n",
              "  <tbody>\n",
              "    <tr>\n",
              "      <th>0</th>\n",
              "      <td>Dermatologist</td>\n",
              "      <td>318419.943</td>\n",
              "      <td>456798</td>\n",
              "    </tr>\n",
              "    <tr>\n",
              "      <th>1</th>\n",
              "      <td>General Physician</td>\n",
              "      <td>58398.792</td>\n",
              "      <td>90687</td>\n",
              "    </tr>\n",
              "    <tr>\n",
              "      <th>2</th>\n",
              "      <td>Nurse Practitioner</td>\n",
              "      <td>12393.318</td>\n",
              "      <td>22515</td>\n",
              "    </tr>\n",
              "  </tbody>\n",
              "</table>\n",
              "</div>\n",
              "      <button class=\"colab-df-convert\" onclick=\"convertToInteractive('df-5efbdf40-6f5c-4f49-83db-b78a5b4aecfc')\"\n",
              "              title=\"Convert this dataframe to an interactive table.\"\n",
              "              style=\"display:none;\">\n",
              "        \n",
              "  <svg xmlns=\"http://www.w3.org/2000/svg\" height=\"24px\"viewBox=\"0 0 24 24\"\n",
              "       width=\"24px\">\n",
              "    <path d=\"M0 0h24v24H0V0z\" fill=\"none\"/>\n",
              "    <path d=\"M18.56 5.44l.94 2.06.94-2.06 2.06-.94-2.06-.94-.94-2.06-.94 2.06-2.06.94zm-11 1L8.5 8.5l.94-2.06 2.06-.94-2.06-.94L8.5 2.5l-.94 2.06-2.06.94zm10 10l.94 2.06.94-2.06 2.06-.94-2.06-.94-.94-2.06-.94 2.06-2.06.94z\"/><path d=\"M17.41 7.96l-1.37-1.37c-.4-.4-.92-.59-1.43-.59-.52 0-1.04.2-1.43.59L10.3 9.45l-7.72 7.72c-.78.78-.78 2.05 0 2.83L4 21.41c.39.39.9.59 1.41.59.51 0 1.02-.2 1.41-.59l7.78-7.78 2.81-2.81c.8-.78.8-2.07 0-2.86zM5.41 20L4 18.59l7.72-7.72 1.47 1.35L5.41 20z\"/>\n",
              "  </svg>\n",
              "      </button>\n",
              "      \n",
              "  <style>\n",
              "    .colab-df-container {\n",
              "      display:flex;\n",
              "      flex-wrap:wrap;\n",
              "      gap: 12px;\n",
              "    }\n",
              "\n",
              "    .colab-df-convert {\n",
              "      background-color: #E8F0FE;\n",
              "      border: none;\n",
              "      border-radius: 50%;\n",
              "      cursor: pointer;\n",
              "      display: none;\n",
              "      fill: #1967D2;\n",
              "      height: 32px;\n",
              "      padding: 0 0 0 0;\n",
              "      width: 32px;\n",
              "    }\n",
              "\n",
              "    .colab-df-convert:hover {\n",
              "      background-color: #E2EBFA;\n",
              "      box-shadow: 0px 1px 2px rgba(60, 64, 67, 0.3), 0px 1px 3px 1px rgba(60, 64, 67, 0.15);\n",
              "      fill: #174EA6;\n",
              "    }\n",
              "\n",
              "    [theme=dark] .colab-df-convert {\n",
              "      background-color: #3B4455;\n",
              "      fill: #D2E3FC;\n",
              "    }\n",
              "\n",
              "    [theme=dark] .colab-df-convert:hover {\n",
              "      background-color: #434B5C;\n",
              "      box-shadow: 0px 1px 3px 1px rgba(0, 0, 0, 0.15);\n",
              "      filter: drop-shadow(0px 1px 2px rgba(0, 0, 0, 0.3));\n",
              "      fill: #FFFFFF;\n",
              "    }\n",
              "  </style>\n",
              "\n",
              "      <script>\n",
              "        const buttonEl =\n",
              "          document.querySelector('#df-5efbdf40-6f5c-4f49-83db-b78a5b4aecfc button.colab-df-convert');\n",
              "        buttonEl.style.display =\n",
              "          google.colab.kernel.accessAllowed ? 'block' : 'none';\n",
              "\n",
              "        async function convertToInteractive(key) {\n",
              "          const element = document.querySelector('#df-5efbdf40-6f5c-4f49-83db-b78a5b4aecfc');\n",
              "          const dataTable =\n",
              "            await google.colab.kernel.invokeFunction('convertToInteractive',\n",
              "                                                     [key], {});\n",
              "          if (!dataTable) return;\n",
              "\n",
              "          const docLinkHtml = 'Like what you see? Visit the ' +\n",
              "            '<a target=\"_blank\" href=https://colab.research.google.com/notebooks/data_table.ipynb>data table notebook</a>'\n",
              "            + ' to learn more about interactive tables.';\n",
              "          element.innerHTML = '';\n",
              "          dataTable['output_type'] = 'display_data';\n",
              "          await google.colab.output.renderOutput(dataTable, element);\n",
              "          const docLink = document.createElement('div');\n",
              "          docLink.innerHTML = docLinkHtml;\n",
              "          element.appendChild(docLink);\n",
              "        }\n",
              "      </script>\n",
              "    </div>\n",
              "  </div>\n",
              "  "
            ]
          },
          "metadata": {},
          "execution_count": 16
        }
      ],
      "source": [
        "df_Specialty['Total'] = [456798, 90687, 22515]\n",
        "df_Specialty"
      ]
    },
    {
      "cell_type": "markdown",
      "metadata": {
        "id": "BXSjoroU9wN2"
      },
      "source": [
        "**Observation**\n",
        "\n",
        "1. For the different promotional strategies adopted, among the **Specialty** Dermatogist has great impact on **Brand_Rx** followed by General Physician and then Nurse Practitioner"
      ]
    },
    {
      "cell_type": "code",
      "source": [
        "df_Specialty['Ratio'] = df_Specialty[\"Brand_Rx\"]/df_Specialty[\"Total\"] "
      ],
      "metadata": {
        "id": "u103qeokyPu_"
      },
      "execution_count": null,
      "outputs": []
    },
    {
      "cell_type": "code",
      "source": [
        "sns.barplot(y = 'Ratio', x ='Specialty', data = df_Specialty)"
      ],
      "metadata": {
        "colab": {
          "base_uri": "https://localhost:8080/",
          "height": 296
        },
        "id": "eBVh0ziEyKZ-",
        "outputId": "559e7ca8-d81b-4881-ba23-c6f2ceaf7432"
      },
      "execution_count": null,
      "outputs": [
        {
          "output_type": "execute_result",
          "data": {
            "text/plain": [
              "<matplotlib.axes._subplots.AxesSubplot at 0x7fcd0aa080d0>"
            ]
          },
          "metadata": {},
          "execution_count": 18
        },
        {
          "output_type": "display_data",
          "data": {
            "text/plain": [
              "<Figure size 432x288 with 1 Axes>"
            ],
            "image/png": "[encoded data removed]"
          },
          "metadata": {
            "needs_background": "light"
          }
        }
      ]
    },
    {
      "cell_type": "code",
      "source": [
        "from sklearn.metrics import mean_squared_error\n",
        "from sklearn.metrics import r2_score\n",
        "import math\n",
        "# Calculate the MSE\n",
        "mse = mean_squared_error(y_test_f, y_pred_f)\n",
        "print(f'MSE: {mse:.2f}')\n",
        "rmse = math.sqrt(mse)\n",
        "print(f'RMSE: {rmse:.2f}')\n",
        "r2 = r2_score(y_test_f, y_pred_f)\n",
        "print(f'R2: {r2:.2f}')"
      ],
      "metadata": {
        "id": "GNScXDvveC_L"
      },
      "execution_count": null,
      "outputs": []
    },
    {
      "cell_type": "code",
      "execution_count": null,
      "metadata": {
        "colab": {
          "base_uri": "https://localhost:8080/"
        },
        "id": "GA9nxl5q-Pji",
        "outputId": "c742c75d-e9f5-4884-af03-46468e82b67f"
      },
      "outputs": [
        {
          "output_type": "execute_result",
          "data": {
            "text/plain": [
              "Physician_Segment\n",
              "1-High      229626.494\n",
              "2-Medium     97432.934\n",
              "3-Low        62152.625\n",
              "Name: Brand_Rx, dtype: float64"
            ]
          },
          "metadata": {},
          "execution_count": 19
        }
      ],
      "source": [
        "df_HVC.groupby(['Physician_Segment']).sum()['Brand_Rx']"
      ]
    },
    {
      "cell_type": "code",
      "execution_count": null,
      "metadata": {
        "colab": {
          "base_uri": "https://localhost:8080/",
          "height": 297
        },
        "id": "AlDCoRtrOQZZ",
        "outputId": "8b55865f-5aa8-451f-afdb-77343258d63a"
      },
      "outputs": [
        {
          "output_type": "execute_result",
          "data": {
            "text/plain": [
              "<matplotlib.axes._subplots.AxesSubplot at 0x7fcd0aadd6a0>"
            ]
          },
          "metadata": {},
          "execution_count": 20
        },
        {
          "output_type": "display_data",
          "data": {
            "text/plain": [
              "<Figure size 432x288 with 1 Axes>"
            ],
            "image/png": "[encoded data removed]"
          },
          "metadata": {
            "needs_background": "light"
          }
        }
      ],
      "source": [
        "sns.barplot(x = 'Physician_Segment', y ='Brand_Rx', data = df_HVC.groupby(['Physician_Segment']).sum()['Brand_Rx'].to_frame().reset_index())"
      ]
    },
    {
      "cell_type": "markdown",
      "metadata": {
        "id": "K55nYtN8BWlN"
      },
      "source": [
        "**Observation**\n",
        "\n",
        "For the different promotional strategies adopted, among the **Physician_Segmen**t, High Segment has great impact on Brand_Rx followed by Medium  and then Low Practitioner"
      ]
    },
    {
      "cell_type": "code",
      "source": [
        "df_Physician_Segment = df_HVC.groupby(['Physician_Segment']).sum()['Brand_Rx'].to_frame().reset_index()\n",
        "df_Physician_Segment"
      ],
      "metadata": {
        "colab": {
          "base_uri": "https://localhost:8080/",
          "height": 143
        },
        "id": "aoqEKT8axcHh",
        "outputId": "6c651d67-3c2b-4357-9285-3d027d601a02"
      },
      "execution_count": null,
      "outputs": [
        {
          "output_type": "execute_result",
          "data": {
            "text/plain": [
              "  Physician_Segment    Brand_Rx\n",
              "0            1-High  229626.494\n",
              "1          2-Medium   97432.934\n",
              "2             3-Low   62152.625"
            ],
            "text/html": [
              "\n",
              "  <div id=\"df-80139e8f-e9e8-49e7-9580-d8920e5f3c93\">\n",
              "    <div class=\"colab-df-container\">\n",
              "      <div>\n",
              "<style scoped>\n",
              "    .dataframe tbody tr th:only-of-type {\n",
              "        vertical-align: middle;\n",
              "    }\n",
              "\n",
              "    .dataframe tbody tr th {\n",
              "        vertical-align: top;\n",
              "    }\n",
              "\n",
              "    .dataframe thead th {\n",
              "        text-align: right;\n",
              "    }\n",
              "</style>\n",
              "<table border=\"1\" class=\"dataframe\">\n",
              "  <thead>\n",
              "    <tr style=\"text-align: right;\">\n",
              "      <th></th>\n",
              "      <th>Physician_Segment</th>\n",
              "      <th>Brand_Rx</th>\n",
              "    </tr>\n",
              "  </thead>\n",
              "  <tbody>\n",
              "    <tr>\n",
              "      <th>0</th>\n",
              "      <td>1-High</td>\n",
              "      <td>229626.494</td>\n",
              "    </tr>\n",
              "    <tr>\n",
              "      <th>1</th>\n",
              "      <td>2-Medium</td>\n",
              "      <td>97432.934</td>\n",
              "    </tr>\n",
              "    <tr>\n",
              "      <th>2</th>\n",
              "      <td>3-Low</td>\n",
              "      <td>62152.625</td>\n",
              "    </tr>\n",
              "  </tbody>\n",
              "</table>\n",
              "</div>\n",
              "      <button class=\"colab-df-convert\" onclick=\"convertToInteractive('df-80139e8f-e9e8-49e7-9580-d8920e5f3c93')\"\n",
              "              title=\"Convert this dataframe to an interactive table.\"\n",
              "              style=\"display:none;\">\n",
              "        \n",
              "  <svg xmlns=\"http://www.w3.org/2000/svg\" height=\"24px\"viewBox=\"0 0 24 24\"\n",
              "       width=\"24px\">\n",
              "    <path d=\"M0 0h24v24H0V0z\" fill=\"none\"/>\n",
              "    <path d=\"M18.56 5.44l.94 2.06.94-2.06 2.06-.94-2.06-.94-.94-2.06-.94 2.06-2.06.94zm-11 1L8.5 8.5l.94-2.06 2.06-.94-2.06-.94L8.5 2.5l-.94 2.06-2.06.94zm10 10l.94 2.06.94-2.06 2.06-.94-2.06-.94-.94-2.06-.94 2.06-2.06.94z\"/><path d=\"M17.41 7.96l-1.37-1.37c-.4-.4-.92-.59-1.43-.59-.52 0-1.04.2-1.43.59L10.3 9.45l-7.72 7.72c-.78.78-.78 2.05 0 2.83L4 21.41c.39.39.9.59 1.41.59.51 0 1.02-.2 1.41-.59l7.78-7.78 2.81-2.81c.8-.78.8-2.07 0-2.86zM5.41 20L4 18.59l7.72-7.72 1.47 1.35L5.41 20z\"/>\n",
              "  </svg>\n",
              "      </button>\n",
              "      \n",
              "  <style>\n",
              "    .colab-df-container {\n",
              "      display:flex;\n",
              "      flex-wrap:wrap;\n",
              "      gap: 12px;\n",
              "    }\n",
              "\n",
              "    .colab-df-convert {\n",
              "      background-color: #E8F0FE;\n",
              "      border: none;\n",
              "      border-radius: 50%;\n",
              "      cursor: pointer;\n",
              "      display: none;\n",
              "      fill: #1967D2;\n",
              "      height: 32px;\n",
              "      padding: 0 0 0 0;\n",
              "      width: 32px;\n",
              "    }\n",
              "\n",
              "    .colab-df-convert:hover {\n",
              "      background-color: #E2EBFA;\n",
              "      box-shadow: 0px 1px 2px rgba(60, 64, 67, 0.3), 0px 1px 3px 1px rgba(60, 64, 67, 0.15);\n",
              "      fill: #174EA6;\n",
              "    }\n",
              "\n",
              "    [theme=dark] .colab-df-convert {\n",
              "      background-color: #3B4455;\n",
              "      fill: #D2E3FC;\n",
              "    }\n",
              "\n",
              "    [theme=dark] .colab-df-convert:hover {\n",
              "      background-color: #434B5C;\n",
              "      box-shadow: 0px 1px 3px 1px rgba(0, 0, 0, 0.15);\n",
              "      filter: drop-shadow(0px 1px 2px rgba(0, 0, 0, 0.3));\n",
              "      fill: #FFFFFF;\n",
              "    }\n",
              "  </style>\n",
              "\n",
              "      <script>\n",
              "        const buttonEl =\n",
              "          document.querySelector('#df-80139e8f-e9e8-49e7-9580-d8920e5f3c93 button.colab-df-convert');\n",
              "        buttonEl.style.display =\n",
              "          google.colab.kernel.accessAllowed ? 'block' : 'none';\n",
              "\n",
              "        async function convertToInteractive(key) {\n",
              "          const element = document.querySelector('#df-80139e8f-e9e8-49e7-9580-d8920e5f3c93');\n",
              "          const dataTable =\n",
              "            await google.colab.kernel.invokeFunction('convertToInteractive',\n",
              "                                                     [key], {});\n",
              "          if (!dataTable) return;\n",
              "\n",
              "          const docLinkHtml = 'Like what you see? Visit the ' +\n",
              "            '<a target=\"_blank\" href=https://colab.research.google.com/notebooks/data_table.ipynb>data table notebook</a>'\n",
              "            + ' to learn more about interactive tables.';\n",
              "          element.innerHTML = '';\n",
              "          dataTable['output_type'] = 'display_data';\n",
              "          await google.colab.output.renderOutput(dataTable, element);\n",
              "          const docLink = document.createElement('div');\n",
              "          docLink.innerHTML = docLinkHtml;\n",
              "          element.appendChild(docLink);\n",
              "        }\n",
              "      </script>\n",
              "    </div>\n",
              "  </div>\n",
              "  "
            ]
          },
          "metadata": {},
          "execution_count": 21
        }
      ]
    },
    {
      "cell_type": "code",
      "source": [
        "df_HVC['Physician_Segment'].value_counts()"
      ],
      "metadata": {
        "colab": {
          "base_uri": "https://localhost:8080/"
        },
        "id": "lC6xWRTwwMQl",
        "outputId": "edcc77b1-5e7e-4696-d680-3a1f04980d1d"
      },
      "execution_count": null,
      "outputs": [
        {
          "output_type": "execute_result",
          "data": {
            "text/plain": [
              "3-Low       252966\n",
              "2-Medium    187302\n",
              "1-High      129732\n",
              "Name: Physician_Segment, dtype: int64"
            ]
          },
          "metadata": {},
          "execution_count": 22
        }
      ]
    },
    {
      "cell_type": "code",
      "source": [
        "df_Physician_Segment['Total'] = [252966, 187302, 129732]\n",
        "df_Physician_Segment"
      ],
      "metadata": {
        "colab": {
          "base_uri": "https://localhost:8080/",
          "height": 143
        },
        "id": "yUr4EywmwjIc",
        "outputId": "9742b90e-452b-4d28-d8f9-2c92388057ef"
      },
      "execution_count": null,
      "outputs": [
        {
          "output_type": "execute_result",
          "data": {
            "text/plain": [
              "  Physician_Segment    Brand_Rx   Total\n",
              "0            1-High  229626.494  252966\n",
              "1          2-Medium   97432.934  187302\n",
              "2             3-Low   62152.625  129732"
            ],
            "text/html": [
              "\n",
              "  <div id=\"df-20bf0da7-29e9-4162-a682-373cffbdda38\">\n",
              "    <div class=\"colab-df-container\">\n",
              "      <div>\n",
              "<style scoped>\n",
              "    .dataframe tbody tr th:only-of-type {\n",
              "        vertical-align: middle;\n",
              "    }\n",
              "\n",
              "    .dataframe tbody tr th {\n",
              "        vertical-align: top;\n",
              "    }\n",
              "\n",
              "    .dataframe thead th {\n",
              "        text-align: right;\n",
              "    }\n",
              "</style>\n",
              "<table border=\"1\" class=\"dataframe\">\n",
              "  <thead>\n",
              "    <tr style=\"text-align: right;\">\n",
              "      <th></th>\n",
              "      <th>Physician_Segment</th>\n",
              "      <th>Brand_Rx</th>\n",
              "      <th>Total</th>\n",
              "    </tr>\n",
              "  </thead>\n",
              "  <tbody>\n",
              "    <tr>\n",
              "      <th>0</th>\n",
              "      <td>1-High</td>\n",
              "      <td>229626.494</td>\n",
              "      <td>252966</td>\n",
              "    </tr>\n",
              "    <tr>\n",
              "      <th>1</th>\n",
              "      <td>2-Medium</td>\n",
              "      <td>97432.934</td>\n",
              "      <td>187302</td>\n",
              "    </tr>\n",
              "    <tr>\n",
              "      <th>2</th>\n",
              "      <td>3-Low</td>\n",
              "      <td>62152.625</td>\n",
              "      <td>129732</td>\n",
              "    </tr>\n",
              "  </tbody>\n",
              "</table>\n",
              "</div>\n",
              "      <button class=\"colab-df-convert\" onclick=\"convertToInteractive('df-20bf0da7-29e9-4162-a682-373cffbdda38')\"\n",
              "              title=\"Convert this dataframe to an interactive table.\"\n",
              "              style=\"display:none;\">\n",
              "        \n",
              "  <svg xmlns=\"http://www.w3.org/2000/svg\" height=\"24px\"viewBox=\"0 0 24 24\"\n",
              "       width=\"24px\">\n",
              "    <path d=\"M0 0h24v24H0V0z\" fill=\"none\"/>\n",
              "    <path d=\"M18.56 5.44l.94 2.06.94-2.06 2.06-.94-2.06-.94-.94-2.06-.94 2.06-2.06.94zm-11 1L8.5 8.5l.94-2.06 2.06-.94-2.06-.94L8.5 2.5l-.94 2.06-2.06.94zm10 10l.94 2.06.94-2.06 2.06-.94-2.06-.94-.94-2.06-.94 2.06-2.06.94z\"/><path d=\"M17.41 7.96l-1.37-1.37c-.4-.4-.92-.59-1.43-.59-.52 0-1.04.2-1.43.59L10.3 9.45l-7.72 7.72c-.78.78-.78 2.05 0 2.83L4 21.41c.39.39.9.59 1.41.59.51 0 1.02-.2 1.41-.59l7.78-7.78 2.81-2.81c.8-.78.8-2.07 0-2.86zM5.41 20L4 18.59l7.72-7.72 1.47 1.35L5.41 20z\"/>\n",
              "  </svg>\n",
              "      </button>\n",
              "      \n",
              "  <style>\n",
              "    .colab-df-container {\n",
              "      display:flex;\n",
              "      flex-wrap:wrap;\n",
              "      gap: 12px;\n",
              "    }\n",
              "\n",
              "    .colab-df-convert {\n",
              "      background-color: #E8F0FE;\n",
              "      border: none;\n",
              "      border-radius: 50%;\n",
              "      cursor: pointer;\n",
              "      display: none;\n",
              "      fill: #1967D2;\n",
              "      height: 32px;\n",
              "      padding: 0 0 0 0;\n",
              "      width: 32px;\n",
              "    }\n",
              "\n",
              "    .colab-df-convert:hover {\n",
              "      background-color: #E2EBFA;\n",
              "      box-shadow: 0px 1px 2px rgba(60, 64, 67, 0.3), 0px 1px 3px 1px rgba(60, 64, 67, 0.15);\n",
              "      fill: #174EA6;\n",
              "    }\n",
              "\n",
              "    [theme=dark] .colab-df-convert {\n",
              "      background-color: #3B4455;\n",
              "      fill: #D2E3FC;\n",
              "    }\n",
              "\n",
              "    [theme=dark] .colab-df-convert:hover {\n",
              "      background-color: #434B5C;\n",
              "      box-shadow: 0px 1px 3px 1px rgba(0, 0, 0, 0.15);\n",
              "      filter: drop-shadow(0px 1px 2px rgba(0, 0, 0, 0.3));\n",
              "      fill: #FFFFFF;\n",
              "    }\n",
              "  </style>\n",
              "\n",
              "      <script>\n",
              "        const buttonEl =\n",
              "          document.querySelector('#df-20bf0da7-29e9-4162-a682-373cffbdda38 button.colab-df-convert');\n",
              "        buttonEl.style.display =\n",
              "          google.colab.kernel.accessAllowed ? 'block' : 'none';\n",
              "\n",
              "        async function convertToInteractive(key) {\n",
              "          const element = document.querySelector('#df-20bf0da7-29e9-4162-a682-373cffbdda38');\n",
              "          const dataTable =\n",
              "            await google.colab.kernel.invokeFunction('convertToInteractive',\n",
              "                                                     [key], {});\n",
              "          if (!dataTable) return;\n",
              "\n",
              "          const docLinkHtml = 'Like what you see? Visit the ' +\n",
              "            '<a target=\"_blank\" href=https://colab.research.google.com/notebooks/data_table.ipynb>data table notebook</a>'\n",
              "            + ' to learn more about interactive tables.';\n",
              "          element.innerHTML = '';\n",
              "          dataTable['output_type'] = 'display_data';\n",
              "          await google.colab.output.renderOutput(dataTable, element);\n",
              "          const docLink = document.createElement('div');\n",
              "          docLink.innerHTML = docLinkHtml;\n",
              "          element.appendChild(docLink);\n",
              "        }\n",
              "      </script>\n",
              "    </div>\n",
              "  </div>\n",
              "  "
            ]
          },
          "metadata": {},
          "execution_count": 23
        }
      ]
    },
    {
      "cell_type": "code",
      "source": [
        "df_Physician_Segment['Ratio'] = df_Physician_Segment[\"Brand_Rx\"]/df_Physician_Segment[\"Total\"] "
      ],
      "metadata": {
        "id": "Y-QspO0ozdRT"
      },
      "execution_count": null,
      "outputs": []
    },
    {
      "cell_type": "code",
      "source": [
        "sns.barplot(y = 'Ratio', x ='Physician_Segment', data = df_Physician_Segment)"
      ],
      "metadata": {
        "colab": {
          "base_uri": "https://localhost:8080/",
          "height": 297
        },
        "id": "2-vInn7Lz4L9",
        "outputId": "ec6576bd-8bad-44af-9cad-9d2314a0cbf2"
      },
      "execution_count": null,
      "outputs": [
        {
          "output_type": "execute_result",
          "data": {
            "text/plain": [
              "<matplotlib.axes._subplots.AxesSubplot at 0x7fcd0aafa0d0>"
            ]
          },
          "metadata": {},
          "execution_count": 25
        },
        {
          "output_type": "display_data",
          "data": {
            "text/plain": [
              "<Figure size 432x288 with 1 Axes>"
            ],
            "image/png": "[encoded data removed]"
          },
          "metadata": {
            "needs_background": "light"
          }
        }
      ]
    },
    {
      "cell_type": "markdown",
      "source": [
        "Observation\n",
        "\n",
        "For the different promotional strategies adopted, among the Physician_Segment, **High Segment** has great impact on Brand_Rx followed by Medium and then Low Practitioner, some kind of Ordinal encoding should be done."
      ],
      "metadata": {
        "id": "YNYdLLyf00ia"
      }
    },
    {
      "cell_type": "markdown",
      "source": [
        "### Mean Encoding"
      ],
      "metadata": {
        "id": "iLaouKFM36_6"
      }
    },
    {
      "cell_type": "code",
      "source": [
        "Physician_Segment_mean = df_HVC.groupby('Physician_Segment')['Brand_Rx'].mean()\n",
        "\n",
        "# Create a new column 'color_encoded' and map the mean values to the corresponding categories\n",
        "df_HVC['Physician_Segment_encoded'] = df_HVC['Physician_Segment'].map(Physician_Segment_mean)"
      ],
      "metadata": {
        "id": "qMZlAvnh35ox"
      },
      "execution_count": null,
      "outputs": []
    },
    {
      "cell_type": "code",
      "source": [
        "df_HVC['Physician_Segment_encoded'].unique()"
      ],
      "metadata": {
        "colab": {
          "base_uri": "https://localhost:8080/"
        },
        "id": "418_XGh8d5to",
        "outputId": "f3eff459-f832-4aa7-d175-4f8393403299"
      },
      "execution_count": null,
      "outputs": [
        {
          "output_type": "execute_result",
          "data": {
            "text/plain": [
              "array([0.24569557, 1.77000658, 0.52019164])"
            ]
          },
          "metadata": {},
          "execution_count": 27
        }
      ]
    },
    {
      "cell_type": "code",
      "source": [
        "Physician_Segment_mean = df_HVC.groupby('Specialty')['Brand_Rx'].mean()\n",
        "Physician_Segment_mean"
      ],
      "metadata": {
        "colab": {
          "base_uri": "https://localhost:8080/"
        },
        "id": "Iiyc5ckYebCy",
        "outputId": "8deac116-7ae9-403d-b41d-9df92acbce92"
      },
      "execution_count": null,
      "outputs": [
        {
          "output_type": "execute_result",
          "data": {
            "text/plain": [
              "Specialty\n",
              "Dermatologist         0.697069\n",
              "General Physician     0.643960\n",
              "Nurse Practitioner    0.550447\n",
              "Name: Brand_Rx, dtype: float64"
            ]
          },
          "metadata": {},
          "execution_count": 29
        }
      ]
    },
    {
      "cell_type": "code",
      "source": [
        "df_HVC"
      ],
      "metadata": {
        "colab": {
          "base_uri": "https://localhost:8080/",
          "height": 488
        },
        "id": "_fbqVrsn5dHP",
        "outputId": "328e985e-279d-4186-d4df-31e57b017be9"
      },
      "execution_count": null,
      "outputs": [
        {
          "output_type": "execute_result",
          "data": {
            "text/plain": [
              "       Physician_ID  Brand_Rx  Market_Rx  Sales_Rep_Calls  Samples_Dropped  \\\n",
              "0          axt00001       0.0    2.80567                1                0   \n",
              "1          axt00001       0.0   20.57312                1                0   \n",
              "2          axt00001       0.0    6.16010                1                0   \n",
              "3          axt00001       0.0    8.95501                1                5   \n",
              "4          axt00001       0.0    9.13793                1                0   \n",
              "...             ...       ...        ...              ...              ...   \n",
              "569995     axt10000       0.0    2.45597                0                0   \n",
              "569996     axt10000       0.0    2.38065                0                0   \n",
              "569997     axt10000       0.0    7.42171                0                0   \n",
              "569998     axt10000       0.0    5.39345                0                0   \n",
              "569999     axt10000       0.0    0.00000                0                0   \n",
              "\n",
              "       Physician_Segment  Emails_Delivered  Vouchers_Dropped      Specialty  \\\n",
              "0                  3-Low                 0                 0  Dermatologist   \n",
              "1                  3-Low                 0                 0  Dermatologist   \n",
              "2                  3-Low                 0                 0  Dermatologist   \n",
              "3                  3-Low                 0                 0  Dermatologist   \n",
              "4                  3-Low                 0                 0  Dermatologist   \n",
              "...                  ...               ...               ...            ...   \n",
              "569995             3-Low                 1                 0  Dermatologist   \n",
              "569996             3-Low                 0                 0  Dermatologist   \n",
              "569997             3-Low                 1                 0  Dermatologist   \n",
              "569998             3-Low                 1                 0  Dermatologist   \n",
              "569999             3-Low                 0                 0  Dermatologist   \n",
              "\n",
              "        Physician_Segment_encoded  \n",
              "0                        0.245696  \n",
              "1                        0.245696  \n",
              "2                        0.245696  \n",
              "3                        0.245696  \n",
              "4                        0.245696  \n",
              "...                           ...  \n",
              "569995                   0.245696  \n",
              "569996                   0.245696  \n",
              "569997                   0.245696  \n",
              "569998                   0.245696  \n",
              "569999                   0.245696  \n",
              "\n",
              "[570000 rows x 10 columns]"
            ],
            "text/html": [
              "\n",
              "  <div id=\"df-eb8d9f97-1e6e-42ac-9a4f-5ef70429bb99\">\n",
              "    <div class=\"colab-df-container\">\n",
              "      <div>\n",
              "<style scoped>\n",
              "    .dataframe tbody tr th:only-of-type {\n",
              "        vertical-align: middle;\n",
              "    }\n",
              "\n",
              "    .dataframe tbody tr th {\n",
              "        vertical-align: top;\n",
              "    }\n",
              "\n",
              "    .dataframe thead th {\n",
              "        text-align: right;\n",
              "    }\n",
              "</style>\n",
              "<table border=\"1\" class=\"dataframe\">\n",
              "  <thead>\n",
              "    <tr style=\"text-align: right;\">\n",
              "      <th></th>\n",
              "      <th>Physician_ID</th>\n",
              "      <th>Brand_Rx</th>\n",
              "      <th>Market_Rx</th>\n",
              "      <th>Sales_Rep_Calls</th>\n",
              "      <th>Samples_Dropped</th>\n",
              "      <th>Physician_Segment</th>\n",
              "      <th>Emails_Delivered</th>\n",
              "      <th>Vouchers_Dropped</th>\n",
              "      <th>Specialty</th>\n",
              "      <th>Physician_Segment_encoded</th>\n",
              "    </tr>\n",
              "  </thead>\n",
              "  <tbody>\n",
              "    <tr>\n",
              "      <th>0</th>\n",
              "      <td>axt00001</td>\n",
              "      <td>0.0</td>\n",
              "      <td>2.80567</td>\n",
              "      <td>1</td>\n",
              "      <td>0</td>\n",
              "      <td>3-Low</td>\n",
              "      <td>0</td>\n",
              "      <td>0</td>\n",
              "      <td>Dermatologist</td>\n",
              "      <td>0.245696</td>\n",
              "    </tr>\n",
              "    <tr>\n",
              "      <th>1</th>\n",
              "      <td>axt00001</td>\n",
              "      <td>0.0</td>\n",
              "      <td>20.57312</td>\n",
              "      <td>1</td>\n",
              "      <td>0</td>\n",
              "      <td>3-Low</td>\n",
              "      <td>0</td>\n",
              "      <td>0</td>\n",
              "      <td>Dermatologist</td>\n",
              "      <td>0.245696</td>\n",
              "    </tr>\n",
              "    <tr>\n",
              "      <th>2</th>\n",
              "      <td>axt00001</td>\n",
              "      <td>0.0</td>\n",
              "      <td>6.16010</td>\n",
              "      <td>1</td>\n",
              "      <td>0</td>\n",
              "      <td>3-Low</td>\n",
              "      <td>0</td>\n",
              "      <td>0</td>\n",
              "      <td>Dermatologist</td>\n",
              "      <td>0.245696</td>\n",
              "    </tr>\n",
              "    <tr>\n",
              "      <th>3</th>\n",
              "      <td>axt00001</td>\n",
              "      <td>0.0</td>\n",
              "      <td>8.95501</td>\n",
              "      <td>1</td>\n",
              "      <td>5</td>\n",
              "      <td>3-Low</td>\n",
              "      <td>0</td>\n",
              "      <td>0</td>\n",
              "      <td>Dermatologist</td>\n",
              "      <td>0.245696</td>\n",
              "    </tr>\n",
              "    <tr>\n",
              "      <th>4</th>\n",
              "      <td>axt00001</td>\n",
              "      <td>0.0</td>\n",
              "      <td>9.13793</td>\n",
              "      <td>1</td>\n",
              "      <td>0</td>\n",
              "      <td>3-Low</td>\n",
              "      <td>0</td>\n",
              "      <td>0</td>\n",
              "      <td>Dermatologist</td>\n",
              "      <td>0.245696</td>\n",
              "    </tr>\n",
              "    <tr>\n",
              "      <th>...</th>\n",
              "      <td>...</td>\n",
              "      <td>...</td>\n",
              "      <td>...</td>\n",
              "      <td>...</td>\n",
              "      <td>...</td>\n",
              "      <td>...</td>\n",
              "      <td>...</td>\n",
              "      <td>...</td>\n",
              "      <td>...</td>\n",
              "      <td>...</td>\n",
              "    </tr>\n",
              "    <tr>\n",
              "      <th>569995</th>\n",
              "      <td>axt10000</td>\n",
              "      <td>0.0</td>\n",
              "      <td>2.45597</td>\n",
              "      <td>0</td>\n",
              "      <td>0</td>\n",
              "      <td>3-Low</td>\n",
              "      <td>1</td>\n",
              "      <td>0</td>\n",
              "      <td>Dermatologist</td>\n",
              "      <td>0.245696</td>\n",
              "    </tr>\n",
              "    <tr>\n",
              "      <th>569996</th>\n",
              "      <td>axt10000</td>\n",
              "      <td>0.0</td>\n",
              "      <td>2.38065</td>\n",
              "      <td>0</td>\n",
              "      <td>0</td>\n",
              "      <td>3-Low</td>\n",
              "      <td>0</td>\n",
              "      <td>0</td>\n",
              "      <td>Dermatologist</td>\n",
              "      <td>0.245696</td>\n",
              "    </tr>\n",
              "    <tr>\n",
              "      <th>569997</th>\n",
              "      <td>axt10000</td>\n",
              "      <td>0.0</td>\n",
              "      <td>7.42171</td>\n",
              "      <td>0</td>\n",
              "      <td>0</td>\n",
              "      <td>3-Low</td>\n",
              "      <td>1</td>\n",
              "      <td>0</td>\n",
              "      <td>Dermatologist</td>\n",
              "      <td>0.245696</td>\n",
              "    </tr>\n",
              "    <tr>\n",
              "      <th>569998</th>\n",
              "      <td>axt10000</td>\n",
              "      <td>0.0</td>\n",
              "      <td>5.39345</td>\n",
              "      <td>0</td>\n",
              "      <td>0</td>\n",
              "      <td>3-Low</td>\n",
              "      <td>1</td>\n",
              "      <td>0</td>\n",
              "      <td>Dermatologist</td>\n",
              "      <td>0.245696</td>\n",
              "    </tr>\n",
              "    <tr>\n",
              "      <th>569999</th>\n",
              "      <td>axt10000</td>\n",
              "      <td>0.0</td>\n",
              "      <td>0.00000</td>\n",
              "      <td>0</td>\n",
              "      <td>0</td>\n",
              "      <td>3-Low</td>\n",
              "      <td>0</td>\n",
              "      <td>0</td>\n",
              "      <td>Dermatologist</td>\n",
              "      <td>0.245696</td>\n",
              "    </tr>\n",
              "  </tbody>\n",
              "</table>\n",
              "<p>570000 rows × 10 columns</p>\n",
              "</div>\n",
              "      <button class=\"colab-df-convert\" onclick=\"convertToInteractive('df-eb8d9f97-1e6e-42ac-9a4f-5ef70429bb99')\"\n",
              "              title=\"Convert this dataframe to an interactive table.\"\n",
              "              style=\"display:none;\">\n",
              "        \n",
              "  <svg xmlns=\"http://www.w3.org/2000/svg\" height=\"24px\"viewBox=\"0 0 24 24\"\n",
              "       width=\"24px\">\n",
              "    <path d=\"M0 0h24v24H0V0z\" fill=\"none\"/>\n",
              "    <path d=\"M18.56 5.44l.94 2.06.94-2.06 2.06-.94-2.06-.94-.94-2.06-.94 2.06-2.06.94zm-11 1L8.5 8.5l.94-2.06 2.06-.94-2.06-.94L8.5 2.5l-.94 2.06-2.06.94zm10 10l.94 2.06.94-2.06 2.06-.94-2.06-.94-.94-2.06-.94 2.06-2.06.94z\"/><path d=\"M17.41 7.96l-1.37-1.37c-.4-.4-.92-.59-1.43-.59-.52 0-1.04.2-1.43.59L10.3 9.45l-7.72 7.72c-.78.78-.78 2.05 0 2.83L4 21.41c.39.39.9.59 1.41.59.51 0 1.02-.2 1.41-.59l7.78-7.78 2.81-2.81c.8-.78.8-2.07 0-2.86zM5.41 20L4 18.59l7.72-7.72 1.47 1.35L5.41 20z\"/>\n",
              "  </svg>\n",
              "      </button>\n",
              "      \n",
              "  <style>\n",
              "    .colab-df-container {\n",
              "      display:flex;\n",
              "      flex-wrap:wrap;\n",
              "      gap: 12px;\n",
              "    }\n",
              "\n",
              "    .colab-df-convert {\n",
              "      background-color: #E8F0FE;\n",
              "      border: none;\n",
              "      border-radius: 50%;\n",
              "      cursor: pointer;\n",
              "      display: none;\n",
              "      fill: #1967D2;\n",
              "      height: 32px;\n",
              "      padding: 0 0 0 0;\n",
              "      width: 32px;\n",
              "    }\n",
              "\n",
              "    .colab-df-convert:hover {\n",
              "      background-color: #E2EBFA;\n",
              "      box-shadow: 0px 1px 2px rgba(60, 64, 67, 0.3), 0px 1px 3px 1px rgba(60, 64, 67, 0.15);\n",
              "      fill: #174EA6;\n",
              "    }\n",
              "\n",
              "    [theme=dark] .colab-df-convert {\n",
              "      background-color: #3B4455;\n",
              "      fill: #D2E3FC;\n",
              "    }\n",
              "\n",
              "    [theme=dark] .colab-df-convert:hover {\n",
              "      background-color: #434B5C;\n",
              "      box-shadow: 0px 1px 3px 1px rgba(0, 0, 0, 0.15);\n",
              "      filter: drop-shadow(0px 1px 2px rgba(0, 0, 0, 0.3));\n",
              "      fill: #FFFFFF;\n",
              "    }\n",
              "  </style>\n",
              "\n",
              "      <script>\n",
              "        const buttonEl =\n",
              "          document.querySelector('#df-eb8d9f97-1e6e-42ac-9a4f-5ef70429bb99 button.colab-df-convert');\n",
              "        buttonEl.style.display =\n",
              "          google.colab.kernel.accessAllowed ? 'block' : 'none';\n",
              "\n",
              "        async function convertToInteractive(key) {\n",
              "          const element = document.querySelector('#df-eb8d9f97-1e6e-42ac-9a4f-5ef70429bb99');\n",
              "          const dataTable =\n",
              "            await google.colab.kernel.invokeFunction('convertToInteractive',\n",
              "                                                     [key], {});\n",
              "          if (!dataTable) return;\n",
              "\n",
              "          const docLinkHtml = 'Like what you see? Visit the ' +\n",
              "            '<a target=\"_blank\" href=https://colab.research.google.com/notebooks/data_table.ipynb>data table notebook</a>'\n",
              "            + ' to learn more about interactive tables.';\n",
              "          element.innerHTML = '';\n",
              "          dataTable['output_type'] = 'display_data';\n",
              "          await google.colab.output.renderOutput(dataTable, element);\n",
              "          const docLink = document.createElement('div');\n",
              "          docLink.innerHTML = docLinkHtml;\n",
              "          element.appendChild(docLink);\n",
              "        }\n",
              "      </script>\n",
              "    </div>\n",
              "  </div>\n",
              "  "
            ]
          },
          "metadata": {},
          "execution_count": 140
        }
      ]
    },
    {
      "cell_type": "code",
      "execution_count": null,
      "metadata": {
        "colab": {
          "base_uri": "https://localhost:8080/",
          "height": 332
        },
        "id": "waDt7lvRB2db",
        "outputId": "063679e1-8c12-451b-8761-a856a44c7171"
      },
      "outputs": [
        {
          "output_type": "execute_result",
          "data": {
            "text/plain": [
              "  Physician_Segment           Specialty    Brand_Rx\n",
              "0            1-High       Dermatologist  203831.089\n",
              "1            1-High   General Physician   23622.264\n",
              "2            1-High  Nurse Practitioner    2173.141\n",
              "3          2-Medium       Dermatologist   59291.861\n",
              "4          2-Medium   General Physician   28663.208\n",
              "5          2-Medium  Nurse Practitioner    9477.865\n",
              "6             3-Low       Dermatologist   55296.993\n",
              "7             3-Low   General Physician    6113.320\n",
              "8             3-Low  Nurse Practitioner     742.312"
            ],
            "text/html": [
              "\n",
              "  <div id=\"df-8ac35c63-dacf-4302-8d05-2c9812df83ed\">\n",
              "    <div class=\"colab-df-container\">\n",
              "      <div>\n",
              "<style scoped>\n",
              "    .dataframe tbody tr th:only-of-type {\n",
              "        vertical-align: middle;\n",
              "    }\n",
              "\n",
              "    .dataframe tbody tr th {\n",
              "        vertical-align: top;\n",
              "    }\n",
              "\n",
              "    .dataframe thead th {\n",
              "        text-align: right;\n",
              "    }\n",
              "</style>\n",
              "<table border=\"1\" class=\"dataframe\">\n",
              "  <thead>\n",
              "    <tr style=\"text-align: right;\">\n",
              "      <th></th>\n",
              "      <th>Physician_Segment</th>\n",
              "      <th>Specialty</th>\n",
              "      <th>Brand_Rx</th>\n",
              "    </tr>\n",
              "  </thead>\n",
              "  <tbody>\n",
              "    <tr>\n",
              "      <th>0</th>\n",
              "      <td>1-High</td>\n",
              "      <td>Dermatologist</td>\n",
              "      <td>203831.089</td>\n",
              "    </tr>\n",
              "    <tr>\n",
              "      <th>1</th>\n",
              "      <td>1-High</td>\n",
              "      <td>General Physician</td>\n",
              "      <td>23622.264</td>\n",
              "    </tr>\n",
              "    <tr>\n",
              "      <th>2</th>\n",
              "      <td>1-High</td>\n",
              "      <td>Nurse Practitioner</td>\n",
              "      <td>2173.141</td>\n",
              "    </tr>\n",
              "    <tr>\n",
              "      <th>3</th>\n",
              "      <td>2-Medium</td>\n",
              "      <td>Dermatologist</td>\n",
              "      <td>59291.861</td>\n",
              "    </tr>\n",
              "    <tr>\n",
              "      <th>4</th>\n",
              "      <td>2-Medium</td>\n",
              "      <td>General Physician</td>\n",
              "      <td>28663.208</td>\n",
              "    </tr>\n",
              "    <tr>\n",
              "      <th>5</th>\n",
              "      <td>2-Medium</td>\n",
              "      <td>Nurse Practitioner</td>\n",
              "      <td>9477.865</td>\n",
              "    </tr>\n",
              "    <tr>\n",
              "      <th>6</th>\n",
              "      <td>3-Low</td>\n",
              "      <td>Dermatologist</td>\n",
              "      <td>55296.993</td>\n",
              "    </tr>\n",
              "    <tr>\n",
              "      <th>7</th>\n",
              "      <td>3-Low</td>\n",
              "      <td>General Physician</td>\n",
              "      <td>6113.320</td>\n",
              "    </tr>\n",
              "    <tr>\n",
              "      <th>8</th>\n",
              "      <td>3-Low</td>\n",
              "      <td>Nurse Practitioner</td>\n",
              "      <td>742.312</td>\n",
              "    </tr>\n",
              "  </tbody>\n",
              "</table>\n",
              "</div>\n",
              "      <button class=\"colab-df-convert\" onclick=\"convertToInteractive('df-8ac35c63-dacf-4302-8d05-2c9812df83ed')\"\n",
              "              title=\"Convert this dataframe to an interactive table.\"\n",
              "              style=\"display:none;\">\n",
              "        \n",
              "  <svg xmlns=\"http://www.w3.org/2000/svg\" height=\"24px\"viewBox=\"0 0 24 24\"\n",
              "       width=\"24px\">\n",
              "    <path d=\"M0 0h24v24H0V0z\" fill=\"none\"/>\n",
              "    <path d=\"M18.56 5.44l.94 2.06.94-2.06 2.06-.94-2.06-.94-.94-2.06-.94 2.06-2.06.94zm-11 1L8.5 8.5l.94-2.06 2.06-.94-2.06-.94L8.5 2.5l-.94 2.06-2.06.94zm10 10l.94 2.06.94-2.06 2.06-.94-2.06-.94-.94-2.06-.94 2.06-2.06.94z\"/><path d=\"M17.41 7.96l-1.37-1.37c-.4-.4-.92-.59-1.43-.59-.52 0-1.04.2-1.43.59L10.3 9.45l-7.72 7.72c-.78.78-.78 2.05 0 2.83L4 21.41c.39.39.9.59 1.41.59.51 0 1.02-.2 1.41-.59l7.78-7.78 2.81-2.81c.8-.78.8-2.07 0-2.86zM5.41 20L4 18.59l7.72-7.72 1.47 1.35L5.41 20z\"/>\n",
              "  </svg>\n",
              "      </button>\n",
              "      \n",
              "  <style>\n",
              "    .colab-df-container {\n",
              "      display:flex;\n",
              "      flex-wrap:wrap;\n",
              "      gap: 12px;\n",
              "    }\n",
              "\n",
              "    .colab-df-convert {\n",
              "      background-color: #E8F0FE;\n",
              "      border: none;\n",
              "      border-radius: 50%;\n",
              "      cursor: pointer;\n",
              "      display: none;\n",
              "      fill: #1967D2;\n",
              "      height: 32px;\n",
              "      padding: 0 0 0 0;\n",
              "      width: 32px;\n",
              "    }\n",
              "\n",
              "    .colab-df-convert:hover {\n",
              "      background-color: #E2EBFA;\n",
              "      box-shadow: 0px 1px 2px rgba(60, 64, 67, 0.3), 0px 1px 3px 1px rgba(60, 64, 67, 0.15);\n",
              "      fill: #174EA6;\n",
              "    }\n",
              "\n",
              "    [theme=dark] .colab-df-convert {\n",
              "      background-color: #3B4455;\n",
              "      fill: #D2E3FC;\n",
              "    }\n",
              "\n",
              "    [theme=dark] .colab-df-convert:hover {\n",
              "      background-color: #434B5C;\n",
              "      box-shadow: 0px 1px 3px 1px rgba(0, 0, 0, 0.15);\n",
              "      filter: drop-shadow(0px 1px 2px rgba(0, 0, 0, 0.3));\n",
              "      fill: #FFFFFF;\n",
              "    }\n",
              "  </style>\n",
              "\n",
              "      <script>\n",
              "        const buttonEl =\n",
              "          document.querySelector('#df-8ac35c63-dacf-4302-8d05-2c9812df83ed button.colab-df-convert');\n",
              "        buttonEl.style.display =\n",
              "          google.colab.kernel.accessAllowed ? 'block' : 'none';\n",
              "\n",
              "        async function convertToInteractive(key) {\n",
              "          const element = document.querySelector('#df-8ac35c63-dacf-4302-8d05-2c9812df83ed');\n",
              "          const dataTable =\n",
              "            await google.colab.kernel.invokeFunction('convertToInteractive',\n",
              "                                                     [key], {});\n",
              "          if (!dataTable) return;\n",
              "\n",
              "          const docLinkHtml = 'Like what you see? Visit the ' +\n",
              "            '<a target=\"_blank\" href=https://colab.research.google.com/notebooks/data_table.ipynb>data table notebook</a>'\n",
              "            + ' to learn more about interactive tables.';\n",
              "          element.innerHTML = '';\n",
              "          dataTable['output_type'] = 'display_data';\n",
              "          await google.colab.output.renderOutput(dataTable, element);\n",
              "          const docLink = document.createElement('div');\n",
              "          docLink.innerHTML = docLinkHtml;\n",
              "          element.appendChild(docLink);\n",
              "        }\n",
              "      </script>\n",
              "    </div>\n",
              "  </div>\n",
              "  "
            ]
          },
          "metadata": {},
          "execution_count": 141
        }
      ],
      "source": [
        "df_HVC.groupby(['Physician_Segment','Specialty']).sum()['Brand_Rx'].to_frame().reset_index()"
      ]
    },
    {
      "cell_type": "code",
      "execution_count": null,
      "metadata": {
        "colab": {
          "base_uri": "https://localhost:8080/",
          "height": 297
        },
        "id": "jl1pD-dggj00",
        "outputId": "b281c5a2-930d-4657-bc43-59ac2fabe30c"
      },
      "outputs": [
        {
          "output_type": "execute_result",
          "data": {
            "text/plain": [
              "<matplotlib.axes._subplots.AxesSubplot at 0x7fc24ad45430>"
            ]
          },
          "metadata": {},
          "execution_count": 142
        },
        {
          "output_type": "display_data",
          "data": {
            "text/plain": [
              "<Figure size 432x288 with 1 Axes>"
            ],
            "image/png": "[encoded data removed]"
          },
          "metadata": {
            "needs_background": "light"
          }
        }
      ],
      "source": [
        "sns.scatterplot(x = 'Market_Rx', y = 'Brand_Rx',hue ='Physician_Segment', data= df_HVC)"
      ]
    },
    {
      "cell_type": "code",
      "execution_count": null,
      "metadata": {
        "colab": {
          "base_uri": "https://localhost:8080/"
        },
        "id": "NSJxDBSqivsY",
        "outputId": "ba044f56-a4bd-43ed-99c3-9a721b982b88"
      },
      "outputs": [
        {
          "output_type": "execute_result",
          "data": {
            "text/plain": [
              "0.6306452734068294"
            ]
          },
          "metadata": {},
          "execution_count": 143
        }
      ],
      "source": [
        "df_HVC[df_HVC['Physician_Segment'] == '1-High']['Market_Rx'].corr(df_HVC['Brand_Rx'])"
      ]
    },
    {
      "cell_type": "code",
      "execution_count": null,
      "metadata": {
        "colab": {
          "base_uri": "https://localhost:8080/"
        },
        "id": "bw7qmZpIGbhg",
        "outputId": "5137b69c-85ad-40b7-e4cd-5eedd4300ecc"
      },
      "outputs": [
        {
          "output_type": "execute_result",
          "data": {
            "text/plain": [
              "0.3708052001988825"
            ]
          },
          "metadata": {},
          "execution_count": 144
        }
      ],
      "source": [
        "df_HVC[df_HVC['Physician_Segment'] == '3-Low']['Market_Rx'].corr(df_HVC['Brand_Rx'])"
      ]
    },
    {
      "cell_type": "code",
      "execution_count": null,
      "metadata": {
        "colab": {
          "base_uri": "https://localhost:8080/"
        },
        "id": "VYm7rMvKGWDK",
        "outputId": "5a63a90d-b247-407b-dcac-020d877a0309"
      },
      "outputs": [
        {
          "output_type": "execute_result",
          "data": {
            "text/plain": [
              "0.4781019184342936"
            ]
          },
          "metadata": {},
          "execution_count": 145
        }
      ],
      "source": [
        "df_HVC[df_HVC['Physician_Segment'] == '2-Medium']['Market_Rx'].corr(df_HVC['Brand_Rx'])"
      ]
    },
    {
      "cell_type": "markdown",
      "metadata": {
        "id": "GleOhs2rG0Wh"
      },
      "source": [
        "**Observation** \n",
        "\n",
        "It can be seen that the **Market_Rx** column least contribute to the prediction of **Brand_Rx**, so we can confidently drop this column"
      ]
    },
    {
      "cell_type": "code",
      "execution_count": null,
      "metadata": {
        "id": "EIzIcyBxHs8P"
      },
      "outputs": [],
      "source": [
        "df_HVC.drop('Market_Rx', axis =1, inplace = True)"
      ]
    },
    {
      "cell_type": "code",
      "execution_count": null,
      "metadata": {
        "colab": {
          "base_uri": "https://localhost:8080/",
          "height": 270
        },
        "id": "SPzIjZXLIDtx",
        "outputId": "94b0b5cd-a533-4c81-ddf3-581741320cf6"
      },
      "outputs": [
        {
          "output_type": "execute_result",
          "data": {
            "text/plain": [
              "  Physician_ID  Brand_Rx  Sales_Rep_Calls  Samples_Dropped Physician_Segment  \\\n",
              "0     axt00001       0.0                1                0             3-Low   \n",
              "1     axt00001       0.0                1                0             3-Low   \n",
              "2     axt00001       0.0                1                0             3-Low   \n",
              "3     axt00001       0.0                1                5             3-Low   \n",
              "4     axt00001       0.0                1                0             3-Low   \n",
              "\n",
              "   Emails_Delivered  Vouchers_Dropped      Specialty  \\\n",
              "0                 0                 0  Dermatologist   \n",
              "1                 0                 0  Dermatologist   \n",
              "2                 0                 0  Dermatologist   \n",
              "3                 0                 0  Dermatologist   \n",
              "4                 0                 0  Dermatologist   \n",
              "\n",
              "   Physician_Segment_encoded  \n",
              "0                   0.245696  \n",
              "1                   0.245696  \n",
              "2                   0.245696  \n",
              "3                   0.245696  \n",
              "4                   0.245696  "
            ],
            "text/html": [
              "\n",
              "  <div id=\"df-8dabf66f-0ab0-4cbc-b819-9be09924357b\">\n",
              "    <div class=\"colab-df-container\">\n",
              "      <div>\n",
              "<style scoped>\n",
              "    .dataframe tbody tr th:only-of-type {\n",
              "        vertical-align: middle;\n",
              "    }\n",
              "\n",
              "    .dataframe tbody tr th {\n",
              "        vertical-align: top;\n",
              "    }\n",
              "\n",
              "    .dataframe thead th {\n",
              "        text-align: right;\n",
              "    }\n",
              "</style>\n",
              "<table border=\"1\" class=\"dataframe\">\n",
              "  <thead>\n",
              "    <tr style=\"text-align: right;\">\n",
              "      <th></th>\n",
              "      <th>Physician_ID</th>\n",
              "      <th>Brand_Rx</th>\n",
              "      <th>Sales_Rep_Calls</th>\n",
              "      <th>Samples_Dropped</th>\n",
              "      <th>Physician_Segment</th>\n",
              "      <th>Emails_Delivered</th>\n",
              "      <th>Vouchers_Dropped</th>\n",
              "      <th>Specialty</th>\n",
              "      <th>Physician_Segment_encoded</th>\n",
              "    </tr>\n",
              "  </thead>\n",
              "  <tbody>\n",
              "    <tr>\n",
              "      <th>0</th>\n",
              "      <td>axt00001</td>\n",
              "      <td>0.0</td>\n",
              "      <td>1</td>\n",
              "      <td>0</td>\n",
              "      <td>3-Low</td>\n",
              "      <td>0</td>\n",
              "      <td>0</td>\n",
              "      <td>Dermatologist</td>\n",
              "      <td>0.245696</td>\n",
              "    </tr>\n",
              "    <tr>\n",
              "      <th>1</th>\n",
              "      <td>axt00001</td>\n",
              "      <td>0.0</td>\n",
              "      <td>1</td>\n",
              "      <td>0</td>\n",
              "      <td>3-Low</td>\n",
              "      <td>0</td>\n",
              "      <td>0</td>\n",
              "      <td>Dermatologist</td>\n",
              "      <td>0.245696</td>\n",
              "    </tr>\n",
              "    <tr>\n",
              "      <th>2</th>\n",
              "      <td>axt00001</td>\n",
              "      <td>0.0</td>\n",
              "      <td>1</td>\n",
              "      <td>0</td>\n",
              "      <td>3-Low</td>\n",
              "      <td>0</td>\n",
              "      <td>0</td>\n",
              "      <td>Dermatologist</td>\n",
              "      <td>0.245696</td>\n",
              "    </tr>\n",
              "    <tr>\n",
              "      <th>3</th>\n",
              "      <td>axt00001</td>\n",
              "      <td>0.0</td>\n",
              "      <td>1</td>\n",
              "      <td>5</td>\n",
              "      <td>3-Low</td>\n",
              "      <td>0</td>\n",
              "      <td>0</td>\n",
              "      <td>Dermatologist</td>\n",
              "      <td>0.245696</td>\n",
              "    </tr>\n",
              "    <tr>\n",
              "      <th>4</th>\n",
              "      <td>axt00001</td>\n",
              "      <td>0.0</td>\n",
              "      <td>1</td>\n",
              "      <td>0</td>\n",
              "      <td>3-Low</td>\n",
              "      <td>0</td>\n",
              "      <td>0</td>\n",
              "      <td>Dermatologist</td>\n",
              "      <td>0.245696</td>\n",
              "    </tr>\n",
              "  </tbody>\n",
              "</table>\n",
              "</div>\n",
              "      <button class=\"colab-df-convert\" onclick=\"convertToInteractive('df-8dabf66f-0ab0-4cbc-b819-9be09924357b')\"\n",
              "              title=\"Convert this dataframe to an interactive table.\"\n",
              "              style=\"display:none;\">\n",
              "        \n",
              "  <svg xmlns=\"http://www.w3.org/2000/svg\" height=\"24px\"viewBox=\"0 0 24 24\"\n",
              "       width=\"24px\">\n",
              "    <path d=\"M0 0h24v24H0V0z\" fill=\"none\"/>\n",
              "    <path d=\"M18.56 5.44l.94 2.06.94-2.06 2.06-.94-2.06-.94-.94-2.06-.94 2.06-2.06.94zm-11 1L8.5 8.5l.94-2.06 2.06-.94-2.06-.94L8.5 2.5l-.94 2.06-2.06.94zm10 10l.94 2.06.94-2.06 2.06-.94-2.06-.94-.94-2.06-.94 2.06-2.06.94z\"/><path d=\"M17.41 7.96l-1.37-1.37c-.4-.4-.92-.59-1.43-.59-.52 0-1.04.2-1.43.59L10.3 9.45l-7.72 7.72c-.78.78-.78 2.05 0 2.83L4 21.41c.39.39.9.59 1.41.59.51 0 1.02-.2 1.41-.59l7.78-7.78 2.81-2.81c.8-.78.8-2.07 0-2.86zM5.41 20L4 18.59l7.72-7.72 1.47 1.35L5.41 20z\"/>\n",
              "  </svg>\n",
              "      </button>\n",
              "      \n",
              "  <style>\n",
              "    .colab-df-container {\n",
              "      display:flex;\n",
              "      flex-wrap:wrap;\n",
              "      gap: 12px;\n",
              "    }\n",
              "\n",
              "    .colab-df-convert {\n",
              "      background-color: #E8F0FE;\n",
              "      border: none;\n",
              "      border-radius: 50%;\n",
              "      cursor: pointer;\n",
              "      display: none;\n",
              "      fill: #1967D2;\n",
              "      height: 32px;\n",
              "      padding: 0 0 0 0;\n",
              "      width: 32px;\n",
              "    }\n",
              "\n",
              "    .colab-df-convert:hover {\n",
              "      background-color: #E2EBFA;\n",
              "      box-shadow: 0px 1px 2px rgba(60, 64, 67, 0.3), 0px 1px 3px 1px rgba(60, 64, 67, 0.15);\n",
              "      fill: #174EA6;\n",
              "    }\n",
              "\n",
              "    [theme=dark] .colab-df-convert {\n",
              "      background-color: #3B4455;\n",
              "      fill: #D2E3FC;\n",
              "    }\n",
              "\n",
              "    [theme=dark] .colab-df-convert:hover {\n",
              "      background-color: #434B5C;\n",
              "      box-shadow: 0px 1px 3px 1px rgba(0, 0, 0, 0.15);\n",
              "      filter: drop-shadow(0px 1px 2px rgba(0, 0, 0, 0.3));\n",
              "      fill: #FFFFFF;\n",
              "    }\n",
              "  </style>\n",
              "\n",
              "      <script>\n",
              "        const buttonEl =\n",
              "          document.querySelector('#df-8dabf66f-0ab0-4cbc-b819-9be09924357b button.colab-df-convert');\n",
              "        buttonEl.style.display =\n",
              "          google.colab.kernel.accessAllowed ? 'block' : 'none';\n",
              "\n",
              "        async function convertToInteractive(key) {\n",
              "          const element = document.querySelector('#df-8dabf66f-0ab0-4cbc-b819-9be09924357b');\n",
              "          const dataTable =\n",
              "            await google.colab.kernel.invokeFunction('convertToInteractive',\n",
              "                                                     [key], {});\n",
              "          if (!dataTable) return;\n",
              "\n",
              "          const docLinkHtml = 'Like what you see? Visit the ' +\n",
              "            '<a target=\"_blank\" href=https://colab.research.google.com/notebooks/data_table.ipynb>data table notebook</a>'\n",
              "            + ' to learn more about interactive tables.';\n",
              "          element.innerHTML = '';\n",
              "          dataTable['output_type'] = 'display_data';\n",
              "          await google.colab.output.renderOutput(dataTable, element);\n",
              "          const docLink = document.createElement('div');\n",
              "          docLink.innerHTML = docLinkHtml;\n",
              "          element.appendChild(docLink);\n",
              "        }\n",
              "      </script>\n",
              "    </div>\n",
              "  </div>\n",
              "  "
            ]
          },
          "metadata": {},
          "execution_count": 147
        }
      ],
      "source": [
        "df_HVC.head()"
      ]
    },
    {
      "cell_type": "code",
      "execution_count": null,
      "metadata": {
        "colab": {
          "base_uri": "https://localhost:8080/"
        },
        "id": "evW4DEtwIS3r",
        "outputId": "73862c92-e8c8-403b-aff7-08b3487fd589"
      },
      "outputs": [
        {
          "output_type": "execute_result",
          "data": {
            "text/plain": [
              "563103"
            ]
          },
          "metadata": {},
          "execution_count": 148
        }
      ],
      "source": [
        "df_HVC['Vouchers_Dropped'].isin([0]).sum()"
      ]
    },
    {
      "cell_type": "markdown",
      "metadata": {
        "id": "vqwOVxBHImji"
      },
      "source": [
        "**Observation**\n",
        "\n",
        "1. Almost all of the values under this column is 0 so we will better    drop this column"
      ]
    },
    {
      "cell_type": "code",
      "execution_count": null,
      "metadata": {
        "id": "CoO9OlR0JD2n"
      },
      "outputs": [],
      "source": [
        "df_HVC.drop('Vouchers_Dropped', axis =1, inplace = True)"
      ]
    },
    {
      "cell_type": "code",
      "execution_count": null,
      "metadata": {
        "colab": {
          "base_uri": "https://localhost:8080/",
          "height": 206
        },
        "id": "-CImOTFbJIZm",
        "outputId": "83130b20-700b-4164-b18c-c2f08f6848be"
      },
      "outputs": [
        {
          "output_type": "execute_result",
          "data": {
            "text/plain": [
              "  Physician_ID  Brand_Rx  Sales_Rep_Calls  Samples_Dropped Physician_Segment  \\\n",
              "0     axt00001       0.0                1                0             3-Low   \n",
              "1     axt00001       0.0                1                0             3-Low   \n",
              "2     axt00001       0.0                1                0             3-Low   \n",
              "3     axt00001       0.0                1                5             3-Low   \n",
              "4     axt00001       0.0                1                0             3-Low   \n",
              "\n",
              "   Emails_Delivered      Specialty  Physician_Segment_encoded  \n",
              "0                 0  Dermatologist                   0.245696  \n",
              "1                 0  Dermatologist                   0.245696  \n",
              "2                 0  Dermatologist                   0.245696  \n",
              "3                 0  Dermatologist                   0.245696  \n",
              "4                 0  Dermatologist                   0.245696  "
            ],
            "text/html": [
              "\n",
              "  <div id=\"df-77b5eadb-7e11-4917-8a60-c19cfdc578a6\">\n",
              "    <div class=\"colab-df-container\">\n",
              "      <div>\n",
              "<style scoped>\n",
              "    .dataframe tbody tr th:only-of-type {\n",
              "        vertical-align: middle;\n",
              "    }\n",
              "\n",
              "    .dataframe tbody tr th {\n",
              "        vertical-align: top;\n",
              "    }\n",
              "\n",
              "    .dataframe thead th {\n",
              "        text-align: right;\n",
              "    }\n",
              "</style>\n",
              "<table border=\"1\" class=\"dataframe\">\n",
              "  <thead>\n",
              "    <tr style=\"text-align: right;\">\n",
              "      <th></th>\n",
              "      <th>Physician_ID</th>\n",
              "      <th>Brand_Rx</th>\n",
              "      <th>Sales_Rep_Calls</th>\n",
              "      <th>Samples_Dropped</th>\n",
              "      <th>Physician_Segment</th>\n",
              "      <th>Emails_Delivered</th>\n",
              "      <th>Specialty</th>\n",
              "      <th>Physician_Segment_encoded</th>\n",
              "    </tr>\n",
              "  </thead>\n",
              "  <tbody>\n",
              "    <tr>\n",
              "      <th>0</th>\n",
              "      <td>axt00001</td>\n",
              "      <td>0.0</td>\n",
              "      <td>1</td>\n",
              "      <td>0</td>\n",
              "      <td>3-Low</td>\n",
              "      <td>0</td>\n",
              "      <td>Dermatologist</td>\n",
              "      <td>0.245696</td>\n",
              "    </tr>\n",
              "    <tr>\n",
              "      <th>1</th>\n",
              "      <td>axt00001</td>\n",
              "      <td>0.0</td>\n",
              "      <td>1</td>\n",
              "      <td>0</td>\n",
              "      <td>3-Low</td>\n",
              "      <td>0</td>\n",
              "      <td>Dermatologist</td>\n",
              "      <td>0.245696</td>\n",
              "    </tr>\n",
              "    <tr>\n",
              "      <th>2</th>\n",
              "      <td>axt00001</td>\n",
              "      <td>0.0</td>\n",
              "      <td>1</td>\n",
              "      <td>0</td>\n",
              "      <td>3-Low</td>\n",
              "      <td>0</td>\n",
              "      <td>Dermatologist</td>\n",
              "      <td>0.245696</td>\n",
              "    </tr>\n",
              "    <tr>\n",
              "      <th>3</th>\n",
              "      <td>axt00001</td>\n",
              "      <td>0.0</td>\n",
              "      <td>1</td>\n",
              "      <td>5</td>\n",
              "      <td>3-Low</td>\n",
              "      <td>0</td>\n",
              "      <td>Dermatologist</td>\n",
              "      <td>0.245696</td>\n",
              "    </tr>\n",
              "    <tr>\n",
              "      <th>4</th>\n",
              "      <td>axt00001</td>\n",
              "      <td>0.0</td>\n",
              "      <td>1</td>\n",
              "      <td>0</td>\n",
              "      <td>3-Low</td>\n",
              "      <td>0</td>\n",
              "      <td>Dermatologist</td>\n",
              "      <td>0.245696</td>\n",
              "    </tr>\n",
              "  </tbody>\n",
              "</table>\n",
              "</div>\n",
              "      <button class=\"colab-df-convert\" onclick=\"convertToInteractive('df-77b5eadb-7e11-4917-8a60-c19cfdc578a6')\"\n",
              "              title=\"Convert this dataframe to an interactive table.\"\n",
              "              style=\"display:none;\">\n",
              "        \n",
              "  <svg xmlns=\"http://www.w3.org/2000/svg\" height=\"24px\"viewBox=\"0 0 24 24\"\n",
              "       width=\"24px\">\n",
              "    <path d=\"M0 0h24v24H0V0z\" fill=\"none\"/>\n",
              "    <path d=\"M18.56 5.44l.94 2.06.94-2.06 2.06-.94-2.06-.94-.94-2.06-.94 2.06-2.06.94zm-11 1L8.5 8.5l.94-2.06 2.06-.94-2.06-.94L8.5 2.5l-.94 2.06-2.06.94zm10 10l.94 2.06.94-2.06 2.06-.94-2.06-.94-.94-2.06-.94 2.06-2.06.94z\"/><path d=\"M17.41 7.96l-1.37-1.37c-.4-.4-.92-.59-1.43-.59-.52 0-1.04.2-1.43.59L10.3 9.45l-7.72 7.72c-.78.78-.78 2.05 0 2.83L4 21.41c.39.39.9.59 1.41.59.51 0 1.02-.2 1.41-.59l7.78-7.78 2.81-2.81c.8-.78.8-2.07 0-2.86zM5.41 20L4 18.59l7.72-7.72 1.47 1.35L5.41 20z\"/>\n",
              "  </svg>\n",
              "      </button>\n",
              "      \n",
              "  <style>\n",
              "    .colab-df-container {\n",
              "      display:flex;\n",
              "      flex-wrap:wrap;\n",
              "      gap: 12px;\n",
              "    }\n",
              "\n",
              "    .colab-df-convert {\n",
              "      background-color: #E8F0FE;\n",
              "      border: none;\n",
              "      border-radius: 50%;\n",
              "      cursor: pointer;\n",
              "      display: none;\n",
              "      fill: #1967D2;\n",
              "      height: 32px;\n",
              "      padding: 0 0 0 0;\n",
              "      width: 32px;\n",
              "    }\n",
              "\n",
              "    .colab-df-convert:hover {\n",
              "      background-color: #E2EBFA;\n",
              "      box-shadow: 0px 1px 2px rgba(60, 64, 67, 0.3), 0px 1px 3px 1px rgba(60, 64, 67, 0.15);\n",
              "      fill: #174EA6;\n",
              "    }\n",
              "\n",
              "    [theme=dark] .colab-df-convert {\n",
              "      background-color: #3B4455;\n",
              "      fill: #D2E3FC;\n",
              "    }\n",
              "\n",
              "    [theme=dark] .colab-df-convert:hover {\n",
              "      background-color: #434B5C;\n",
              "      box-shadow: 0px 1px 3px 1px rgba(0, 0, 0, 0.15);\n",
              "      filter: drop-shadow(0px 1px 2px rgba(0, 0, 0, 0.3));\n",
              "      fill: #FFFFFF;\n",
              "    }\n",
              "  </style>\n",
              "\n",
              "      <script>\n",
              "        const buttonEl =\n",
              "          document.querySelector('#df-77b5eadb-7e11-4917-8a60-c19cfdc578a6 button.colab-df-convert');\n",
              "        buttonEl.style.display =\n",
              "          google.colab.kernel.accessAllowed ? 'block' : 'none';\n",
              "\n",
              "        async function convertToInteractive(key) {\n",
              "          const element = document.querySelector('#df-77b5eadb-7e11-4917-8a60-c19cfdc578a6');\n",
              "          const dataTable =\n",
              "            await google.colab.kernel.invokeFunction('convertToInteractive',\n",
              "                                                     [key], {});\n",
              "          if (!dataTable) return;\n",
              "\n",
              "          const docLinkHtml = 'Like what you see? Visit the ' +\n",
              "            '<a target=\"_blank\" href=https://colab.research.google.com/notebooks/data_table.ipynb>data table notebook</a>'\n",
              "            + ' to learn more about interactive tables.';\n",
              "          element.innerHTML = '';\n",
              "          dataTable['output_type'] = 'display_data';\n",
              "          await google.colab.output.renderOutput(dataTable, element);\n",
              "          const docLink = document.createElement('div');\n",
              "          docLink.innerHTML = docLinkHtml;\n",
              "          element.appendChild(docLink);\n",
              "        }\n",
              "      </script>\n",
              "    </div>\n",
              "  </div>\n",
              "  "
            ]
          },
          "metadata": {},
          "execution_count": 150
        }
      ],
      "source": [
        "df_HVC.head()"
      ]
    },
    {
      "cell_type": "code",
      "execution_count": null,
      "metadata": {
        "colab": {
          "base_uri": "https://localhost:8080/"
        },
        "id": "YpiduhbQJPmU",
        "outputId": "321d021f-f5f8-4be3-d429-96c7d9de22ba"
      },
      "outputs": [
        {
          "output_type": "execute_result",
          "data": {
            "text/plain": [
              "472071"
            ]
          },
          "metadata": {},
          "execution_count": 92
        }
      ],
      "source": [
        "df_HVC['Emails_Delivered'].isin([0]).sum()"
      ]
    },
    {
      "cell_type": "code",
      "execution_count": null,
      "metadata": {
        "id": "YKx1956-Jk6Y"
      },
      "outputs": [],
      "source": [
        "df_HVC.to_excel('data.xlsx', index=False)"
      ]
    },
    {
      "cell_type": "code",
      "execution_count": null,
      "metadata": {
        "colab": {
          "base_uri": "https://localhost:8080/",
          "height": 806
        },
        "id": "xepVKCLujUIU",
        "outputId": "6189abe4-8451-4ad4-de96-49a9ddc6c3e5"
      },
      "outputs": [
        {
          "output_type": "display_data",
          "data": {
            "text/plain": [
              "<Figure size 432x288 with 1 Axes>"
            ],
            "image/png": "[encoded data removed]"
          },
          "metadata": {
            "needs_background": "light"
          }
        },
        {
          "output_type": "display_data",
          "data": {
            "text/plain": [
              "<Figure size 432x288 with 1 Axes>"
            ],
            "image/png": "[encoded data removed]"
          },
          "metadata": {
            "needs_background": "light"
          }
        },
        {
          "output_type": "display_data",
          "data": {
            "text/plain": [
              "<Figure size 432x288 with 1 Axes>"
            ],
            "image/png": "[encoded data removed]"
          },
          "metadata": {
            "needs_background": "light"
          }
        }
      ],
      "source": [
        "columns = ['Sales_Rep_Calls','Samples_Dropped', 'Emails_Delivered']      \n",
        "\n",
        "for feat in columns:\n",
        "    data = pd.concat([df_HVC[feat], df_HVC['Brand_Rx']], axis = 1)\n",
        "    sns.scatterplot(x = feat, y = 'Brand_Rx',hue = 'Specialty',palette = ['green', 'yellow', 'red'], data = df_HVC)\n",
        "    plt.show()"
      ]
    },
    {
      "cell_type": "code",
      "execution_count": null,
      "metadata": {
        "colab": {
          "base_uri": "https://localhost:8080/",
          "height": 806
        },
        "id": "IakRfqIpLGFk",
        "outputId": "b3647c61-004f-4585-a45c-a59bb666fc8d"
      },
      "outputs": [
        {
          "output_type": "display_data",
          "data": {
            "text/plain": [
              "<Figure size 432x288 with 1 Axes>"
            ],
            "image/png": "[encoded data removed]"
          },
          "metadata": {
            "needs_background": "light"
          }
        },
        {
          "output_type": "display_data",
          "data": {
            "text/plain": [
              "<Figure size 432x288 with 1 Axes>"
            ],
            "image/png": "[encoded data removed]"
          },
          "metadata": {
            "needs_background": "light"
          }
        },
        {
          "output_type": "display_data",
          "data": {
            "text/plain": [
              "<Figure size 432x288 with 1 Axes>"
            ],
            "image/png": "[encoded data removed]"
          },
          "metadata": {
            "needs_background": "light"
          }
        }
      ],
      "source": [
        "for feat in columns:\n",
        "    data = pd.concat([df_HVC[feat], df_HVC['Brand_Rx']], axis = 1)\n",
        "    sns.scatterplot(x = feat, y = 'Brand_Rx',hue = 'Physician_Segment',palette = ['green', 'yellow', 'red'], data = df_HVC)\n",
        "    plt.show()"
      ]
    },
    {
      "cell_type": "code",
      "source": [
        "df_HVC.drop('Physician_ID', axis =1, inplace =True)"
      ],
      "metadata": {
        "id": "D3kfBnj39i9T"
      },
      "execution_count": null,
      "outputs": []
    },
    {
      "cell_type": "code",
      "source": [
        "df_HVC.columns"
      ],
      "metadata": {
        "colab": {
          "base_uri": "https://localhost:8080/"
        },
        "id": "EQDDVD739k4_",
        "outputId": "a0369048-6538-4891-a9e8-705c42fbd5d6"
      },
      "execution_count": null,
      "outputs": [
        {
          "output_type": "execute_result",
          "data": {
            "text/plain": [
              "Index(['Brand_Rx', 'Sales_Rep_Calls', 'Samples_Dropped', 'Physician_Segment',\n",
              "       'Emails_Delivered', 'Specialty', 'Physician_Segment_encoded'],\n",
              "      dtype='object')"
            ]
          },
          "metadata": {},
          "execution_count": 108
        }
      ]
    },
    {
      "cell_type": "code",
      "source": [
        "df_HVC = df_HVC.reindex(columns=['Sales_Rep_Calls', 'Samples_Dropped', 'Physician_Segment',\n",
        "                        'Emails_Delivered', 'Specialty', 'Physician_Segment_encoded', 'Brand_Rx'])"
      ],
      "metadata": {
        "id": "Twz0Fgey-W_e"
      },
      "execution_count": null,
      "outputs": []
    },
    {
      "cell_type": "code",
      "source": [
        "df_HVC"
      ],
      "metadata": {
        "colab": {
          "base_uri": "https://localhost:8080/",
          "height": 424
        },
        "id": "lPiM88U__Yx1",
        "outputId": "66057113-a0ee-43c4-b4e0-9f7b687e2616"
      },
      "execution_count": null,
      "outputs": [
        {
          "output_type": "execute_result",
          "data": {
            "text/plain": [
              "        Sales_Rep_Calls  Samples_Dropped Physician_Segment  Emails_Delivered  \\\n",
              "0                     1                0             3-Low                 0   \n",
              "1                     1                0             3-Low                 0   \n",
              "2                     1                0             3-Low                 0   \n",
              "3                     1                5             3-Low                 0   \n",
              "4                     1                0             3-Low                 0   \n",
              "...                 ...              ...               ...               ...   \n",
              "569995                0                0             3-Low                 1   \n",
              "569996                0                0             3-Low                 0   \n",
              "569997                0                0             3-Low                 1   \n",
              "569998                0                0             3-Low                 1   \n",
              "569999                0                0             3-Low                 0   \n",
              "\n",
              "            Specialty  Physician_Segment_encoded  Brand_Rx  \n",
              "0       Dermatologist                   0.245696       0.0  \n",
              "1       Dermatologist                   0.245696       0.0  \n",
              "2       Dermatologist                   0.245696       0.0  \n",
              "3       Dermatologist                   0.245696       0.0  \n",
              "4       Dermatologist                   0.245696       0.0  \n",
              "...               ...                        ...       ...  \n",
              "569995  Dermatologist                   0.245696       0.0  \n",
              "569996  Dermatologist                   0.245696       0.0  \n",
              "569997  Dermatologist                   0.245696       0.0  \n",
              "569998  Dermatologist                   0.245696       0.0  \n",
              "569999  Dermatologist                   0.245696       0.0  \n",
              "\n",
              "[570000 rows x 7 columns]"
            ],
            "text/html": [
              "\n",
              "  <div id=\"df-fa7e4f2f-b78d-494f-b037-614a242783e3\">\n",
              "    <div class=\"colab-df-container\">\n",
              "      <div>\n",
              "<style scoped>\n",
              "    .dataframe tbody tr th:only-of-type {\n",
              "        vertical-align: middle;\n",
              "    }\n",
              "\n",
              "    .dataframe tbody tr th {\n",
              "        vertical-align: top;\n",
              "    }\n",
              "\n",
              "    .dataframe thead th {\n",
              "        text-align: right;\n",
              "    }\n",
              "</style>\n",
              "<table border=\"1\" class=\"dataframe\">\n",
              "  <thead>\n",
              "    <tr style=\"text-align: right;\">\n",
              "      <th></th>\n",
              "      <th>Sales_Rep_Calls</th>\n",
              "      <th>Samples_Dropped</th>\n",
              "      <th>Physician_Segment</th>\n",
              "      <th>Emails_Delivered</th>\n",
              "      <th>Specialty</th>\n",
              "      <th>Physician_Segment_encoded</th>\n",
              "      <th>Brand_Rx</th>\n",
              "    </tr>\n",
              "  </thead>\n",
              "  <tbody>\n",
              "    <tr>\n",
              "      <th>0</th>\n",
              "      <td>1</td>\n",
              "      <td>0</td>\n",
              "      <td>3-Low</td>\n",
              "      <td>0</td>\n",
              "      <td>Dermatologist</td>\n",
              "      <td>0.245696</td>\n",
              "      <td>0.0</td>\n",
              "    </tr>\n",
              "    <tr>\n",
              "      <th>1</th>\n",
              "      <td>1</td>\n",
              "      <td>0</td>\n",
              "      <td>3-Low</td>\n",
              "      <td>0</td>\n",
              "      <td>Dermatologist</td>\n",
              "      <td>0.245696</td>\n",
              "      <td>0.0</td>\n",
              "    </tr>\n",
              "    <tr>\n",
              "      <th>2</th>\n",
              "      <td>1</td>\n",
              "      <td>0</td>\n",
              "      <td>3-Low</td>\n",
              "      <td>0</td>\n",
              "      <td>Dermatologist</td>\n",
              "      <td>0.245696</td>\n",
              "      <td>0.0</td>\n",
              "    </tr>\n",
              "    <tr>\n",
              "      <th>3</th>\n",
              "      <td>1</td>\n",
              "      <td>5</td>\n",
              "      <td>3-Low</td>\n",
              "      <td>0</td>\n",
              "      <td>Dermatologist</td>\n",
              "      <td>0.245696</td>\n",
              "      <td>0.0</td>\n",
              "    </tr>\n",
              "    <tr>\n",
              "      <th>4</th>\n",
              "      <td>1</td>\n",
              "      <td>0</td>\n",
              "      <td>3-Low</td>\n",
              "      <td>0</td>\n",
              "      <td>Dermatologist</td>\n",
              "      <td>0.245696</td>\n",
              "      <td>0.0</td>\n",
              "    </tr>\n",
              "    <tr>\n",
              "      <th>...</th>\n",
              "      <td>...</td>\n",
              "      <td>...</td>\n",
              "      <td>...</td>\n",
              "      <td>...</td>\n",
              "      <td>...</td>\n",
              "      <td>...</td>\n",
              "      <td>...</td>\n",
              "    </tr>\n",
              "    <tr>\n",
              "      <th>569995</th>\n",
              "      <td>0</td>\n",
              "      <td>0</td>\n",
              "      <td>3-Low</td>\n",
              "      <td>1</td>\n",
              "      <td>Dermatologist</td>\n",
              "      <td>0.245696</td>\n",
              "      <td>0.0</td>\n",
              "    </tr>\n",
              "    <tr>\n",
              "      <th>569996</th>\n",
              "      <td>0</td>\n",
              "      <td>0</td>\n",
              "      <td>3-Low</td>\n",
              "      <td>0</td>\n",
              "      <td>Dermatologist</td>\n",
              "      <td>0.245696</td>\n",
              "      <td>0.0</td>\n",
              "    </tr>\n",
              "    <tr>\n",
              "      <th>569997</th>\n",
              "      <td>0</td>\n",
              "      <td>0</td>\n",
              "      <td>3-Low</td>\n",
              "      <td>1</td>\n",
              "      <td>Dermatologist</td>\n",
              "      <td>0.245696</td>\n",
              "      <td>0.0</td>\n",
              "    </tr>\n",
              "    <tr>\n",
              "      <th>569998</th>\n",
              "      <td>0</td>\n",
              "      <td>0</td>\n",
              "      <td>3-Low</td>\n",
              "      <td>1</td>\n",
              "      <td>Dermatologist</td>\n",
              "      <td>0.245696</td>\n",
              "      <td>0.0</td>\n",
              "    </tr>\n",
              "    <tr>\n",
              "      <th>569999</th>\n",
              "      <td>0</td>\n",
              "      <td>0</td>\n",
              "      <td>3-Low</td>\n",
              "      <td>0</td>\n",
              "      <td>Dermatologist</td>\n",
              "      <td>0.245696</td>\n",
              "      <td>0.0</td>\n",
              "    </tr>\n",
              "  </tbody>\n",
              "</table>\n",
              "<p>570000 rows × 7 columns</p>\n",
              "</div>\n",
              "      <button class=\"colab-df-convert\" onclick=\"convertToInteractive('df-fa7e4f2f-b78d-494f-b037-614a242783e3')\"\n",
              "              title=\"Convert this dataframe to an interactive table.\"\n",
              "              style=\"display:none;\">\n",
              "        \n",
              "  <svg xmlns=\"http://www.w3.org/2000/svg\" height=\"24px\"viewBox=\"0 0 24 24\"\n",
              "       width=\"24px\">\n",
              "    <path d=\"M0 0h24v24H0V0z\" fill=\"none\"/>\n",
              "    <path d=\"M18.56 5.44l.94 2.06.94-2.06 2.06-.94-2.06-.94-.94-2.06-.94 2.06-2.06.94zm-11 1L8.5 8.5l.94-2.06 2.06-.94-2.06-.94L8.5 2.5l-.94 2.06-2.06.94zm10 10l.94 2.06.94-2.06 2.06-.94-2.06-.94-.94-2.06-.94 2.06-2.06.94z\"/><path d=\"M17.41 7.96l-1.37-1.37c-.4-.4-.92-.59-1.43-.59-.52 0-1.04.2-1.43.59L10.3 9.45l-7.72 7.72c-.78.78-.78 2.05 0 2.83L4 21.41c.39.39.9.59 1.41.59.51 0 1.02-.2 1.41-.59l7.78-7.78 2.81-2.81c.8-.78.8-2.07 0-2.86zM5.41 20L4 18.59l7.72-7.72 1.47 1.35L5.41 20z\"/>\n",
              "  </svg>\n",
              "      </button>\n",
              "      \n",
              "  <style>\n",
              "    .colab-df-container {\n",
              "      display:flex;\n",
              "      flex-wrap:wrap;\n",
              "      gap: 12px;\n",
              "    }\n",
              "\n",
              "    .colab-df-convert {\n",
              "      background-color: #E8F0FE;\n",
              "      border: none;\n",
              "      border-radius: 50%;\n",
              "      cursor: pointer;\n",
              "      display: none;\n",
              "      fill: #1967D2;\n",
              "      height: 32px;\n",
              "      padding: 0 0 0 0;\n",
              "      width: 32px;\n",
              "    }\n",
              "\n",
              "    .colab-df-convert:hover {\n",
              "      background-color: #E2EBFA;\n",
              "      box-shadow: 0px 1px 2px rgba(60, 64, 67, 0.3), 0px 1px 3px 1px rgba(60, 64, 67, 0.15);\n",
              "      fill: #174EA6;\n",
              "    }\n",
              "\n",
              "    [theme=dark] .colab-df-convert {\n",
              "      background-color: #3B4455;\n",
              "      fill: #D2E3FC;\n",
              "    }\n",
              "\n",
              "    [theme=dark] .colab-df-convert:hover {\n",
              "      background-color: #434B5C;\n",
              "      box-shadow: 0px 1px 3px 1px rgba(0, 0, 0, 0.15);\n",
              "      filter: drop-shadow(0px 1px 2px rgba(0, 0, 0, 0.3));\n",
              "      fill: #FFFFFF;\n",
              "    }\n",
              "  </style>\n",
              "\n",
              "      <script>\n",
              "        const buttonEl =\n",
              "          document.querySelector('#df-fa7e4f2f-b78d-494f-b037-614a242783e3 button.colab-df-convert');\n",
              "        buttonEl.style.display =\n",
              "          google.colab.kernel.accessAllowed ? 'block' : 'none';\n",
              "\n",
              "        async function convertToInteractive(key) {\n",
              "          const element = document.querySelector('#df-fa7e4f2f-b78d-494f-b037-614a242783e3');\n",
              "          const dataTable =\n",
              "            await google.colab.kernel.invokeFunction('convertToInteractive',\n",
              "                                                     [key], {});\n",
              "          if (!dataTable) return;\n",
              "\n",
              "          const docLinkHtml = 'Like what you see? Visit the ' +\n",
              "            '<a target=\"_blank\" href=https://colab.research.google.com/notebooks/data_table.ipynb>data table notebook</a>'\n",
              "            + ' to learn more about interactive tables.';\n",
              "          element.innerHTML = '';\n",
              "          dataTable['output_type'] = 'display_data';\n",
              "          await google.colab.output.renderOutput(dataTable, element);\n",
              "          const docLink = document.createElement('div');\n",
              "          docLink.innerHTML = docLinkHtml;\n",
              "          element.appendChild(docLink);\n",
              "        }\n",
              "      </script>\n",
              "    </div>\n",
              "  </div>\n",
              "  "
            ]
          },
          "metadata": {},
          "execution_count": 111
        }
      ]
    },
    {
      "cell_type": "code",
      "source": [
        "df_HVC.drop('Specialty', axis = 1, inplace = True)"
      ],
      "metadata": {
        "id": "bHPdxgDx_oNw"
      },
      "execution_count": null,
      "outputs": []
    },
    {
      "cell_type": "code",
      "source": [
        "df_HVC"
      ],
      "metadata": {
        "colab": {
          "base_uri": "https://localhost:8080/",
          "height": 424
        },
        "id": "dcsol_P__yYf",
        "outputId": "1dbafbe9-9355-4905-9fd8-d307dc2dc6be"
      },
      "execution_count": null,
      "outputs": [
        {
          "output_type": "execute_result",
          "data": {
            "text/plain": [
              "        Sales_Rep_Calls  Samples_Dropped Physician_Segment  Emails_Delivered  \\\n",
              "0                     1                0             3-Low                 0   \n",
              "1                     1                0             3-Low                 0   \n",
              "2                     1                0             3-Low                 0   \n",
              "3                     1                5             3-Low                 0   \n",
              "4                     1                0             3-Low                 0   \n",
              "...                 ...              ...               ...               ...   \n",
              "569995                0                0             3-Low                 1   \n",
              "569996                0                0             3-Low                 0   \n",
              "569997                0                0             3-Low                 1   \n",
              "569998                0                0             3-Low                 1   \n",
              "569999                0                0             3-Low                 0   \n",
              "\n",
              "        Physician_Segment_encoded  Brand_Rx  \n",
              "0                        0.245696       0.0  \n",
              "1                        0.245696       0.0  \n",
              "2                        0.245696       0.0  \n",
              "3                        0.245696       0.0  \n",
              "4                        0.245696       0.0  \n",
              "...                           ...       ...  \n",
              "569995                   0.245696       0.0  \n",
              "569996                   0.245696       0.0  \n",
              "569997                   0.245696       0.0  \n",
              "569998                   0.245696       0.0  \n",
              "569999                   0.245696       0.0  \n",
              "\n",
              "[570000 rows x 6 columns]"
            ],
            "text/html": [
              "\n",
              "  <div id=\"df-72e17c0d-18d3-475b-ae9e-d5818d15afb9\">\n",
              "    <div class=\"colab-df-container\">\n",
              "      <div>\n",
              "<style scoped>\n",
              "    .dataframe tbody tr th:only-of-type {\n",
              "        vertical-align: middle;\n",
              "    }\n",
              "\n",
              "    .dataframe tbody tr th {\n",
              "        vertical-align: top;\n",
              "    }\n",
              "\n",
              "    .dataframe thead th {\n",
              "        text-align: right;\n",
              "    }\n",
              "</style>\n",
              "<table border=\"1\" class=\"dataframe\">\n",
              "  <thead>\n",
              "    <tr style=\"text-align: right;\">\n",
              "      <th></th>\n",
              "      <th>Sales_Rep_Calls</th>\n",
              "      <th>Samples_Dropped</th>\n",
              "      <th>Physician_Segment</th>\n",
              "      <th>Emails_Delivered</th>\n",
              "      <th>Physician_Segment_encoded</th>\n",
              "      <th>Brand_Rx</th>\n",
              "    </tr>\n",
              "  </thead>\n",
              "  <tbody>\n",
              "    <tr>\n",
              "      <th>0</th>\n",
              "      <td>1</td>\n",
              "      <td>0</td>\n",
              "      <td>3-Low</td>\n",
              "      <td>0</td>\n",
              "      <td>0.245696</td>\n",
              "      <td>0.0</td>\n",
              "    </tr>\n",
              "    <tr>\n",
              "      <th>1</th>\n",
              "      <td>1</td>\n",
              "      <td>0</td>\n",
              "      <td>3-Low</td>\n",
              "      <td>0</td>\n",
              "      <td>0.245696</td>\n",
              "      <td>0.0</td>\n",
              "    </tr>\n",
              "    <tr>\n",
              "      <th>2</th>\n",
              "      <td>1</td>\n",
              "      <td>0</td>\n",
              "      <td>3-Low</td>\n",
              "      <td>0</td>\n",
              "      <td>0.245696</td>\n",
              "      <td>0.0</td>\n",
              "    </tr>\n",
              "    <tr>\n",
              "      <th>3</th>\n",
              "      <td>1</td>\n",
              "      <td>5</td>\n",
              "      <td>3-Low</td>\n",
              "      <td>0</td>\n",
              "      <td>0.245696</td>\n",
              "      <td>0.0</td>\n",
              "    </tr>\n",
              "    <tr>\n",
              "      <th>4</th>\n",
              "      <td>1</td>\n",
              "      <td>0</td>\n",
              "      <td>3-Low</td>\n",
              "      <td>0</td>\n",
              "      <td>0.245696</td>\n",
              "      <td>0.0</td>\n",
              "    </tr>\n",
              "    <tr>\n",
              "      <th>...</th>\n",
              "      <td>...</td>\n",
              "      <td>...</td>\n",
              "      <td>...</td>\n",
              "      <td>...</td>\n",
              "      <td>...</td>\n",
              "      <td>...</td>\n",
              "    </tr>\n",
              "    <tr>\n",
              "      <th>569995</th>\n",
              "      <td>0</td>\n",
              "      <td>0</td>\n",
              "      <td>3-Low</td>\n",
              "      <td>1</td>\n",
              "      <td>0.245696</td>\n",
              "      <td>0.0</td>\n",
              "    </tr>\n",
              "    <tr>\n",
              "      <th>569996</th>\n",
              "      <td>0</td>\n",
              "      <td>0</td>\n",
              "      <td>3-Low</td>\n",
              "      <td>0</td>\n",
              "      <td>0.245696</td>\n",
              "      <td>0.0</td>\n",
              "    </tr>\n",
              "    <tr>\n",
              "      <th>569997</th>\n",
              "      <td>0</td>\n",
              "      <td>0</td>\n",
              "      <td>3-Low</td>\n",
              "      <td>1</td>\n",
              "      <td>0.245696</td>\n",
              "      <td>0.0</td>\n",
              "    </tr>\n",
              "    <tr>\n",
              "      <th>569998</th>\n",
              "      <td>0</td>\n",
              "      <td>0</td>\n",
              "      <td>3-Low</td>\n",
              "      <td>1</td>\n",
              "      <td>0.245696</td>\n",
              "      <td>0.0</td>\n",
              "    </tr>\n",
              "    <tr>\n",
              "      <th>569999</th>\n",
              "      <td>0</td>\n",
              "      <td>0</td>\n",
              "      <td>3-Low</td>\n",
              "      <td>0</td>\n",
              "      <td>0.245696</td>\n",
              "      <td>0.0</td>\n",
              "    </tr>\n",
              "  </tbody>\n",
              "</table>\n",
              "<p>570000 rows × 6 columns</p>\n",
              "</div>\n",
              "      <button class=\"colab-df-convert\" onclick=\"convertToInteractive('df-72e17c0d-18d3-475b-ae9e-d5818d15afb9')\"\n",
              "              title=\"Convert this dataframe to an interactive table.\"\n",
              "              style=\"display:none;\">\n",
              "        \n",
              "  <svg xmlns=\"http://www.w3.org/2000/svg\" height=\"24px\"viewBox=\"0 0 24 24\"\n",
              "       width=\"24px\">\n",
              "    <path d=\"M0 0h24v24H0V0z\" fill=\"none\"/>\n",
              "    <path d=\"M18.56 5.44l.94 2.06.94-2.06 2.06-.94-2.06-.94-.94-2.06-.94 2.06-2.06.94zm-11 1L8.5 8.5l.94-2.06 2.06-.94-2.06-.94L8.5 2.5l-.94 2.06-2.06.94zm10 10l.94 2.06.94-2.06 2.06-.94-2.06-.94-.94-2.06-.94 2.06-2.06.94z\"/><path d=\"M17.41 7.96l-1.37-1.37c-.4-.4-.92-.59-1.43-.59-.52 0-1.04.2-1.43.59L10.3 9.45l-7.72 7.72c-.78.78-.78 2.05 0 2.83L4 21.41c.39.39.9.59 1.41.59.51 0 1.02-.2 1.41-.59l7.78-7.78 2.81-2.81c.8-.78.8-2.07 0-2.86zM5.41 20L4 18.59l7.72-7.72 1.47 1.35L5.41 20z\"/>\n",
              "  </svg>\n",
              "      </button>\n",
              "      \n",
              "  <style>\n",
              "    .colab-df-container {\n",
              "      display:flex;\n",
              "      flex-wrap:wrap;\n",
              "      gap: 12px;\n",
              "    }\n",
              "\n",
              "    .colab-df-convert {\n",
              "      background-color: #E8F0FE;\n",
              "      border: none;\n",
              "      border-radius: 50%;\n",
              "      cursor: pointer;\n",
              "      display: none;\n",
              "      fill: #1967D2;\n",
              "      height: 32px;\n",
              "      padding: 0 0 0 0;\n",
              "      width: 32px;\n",
              "    }\n",
              "\n",
              "    .colab-df-convert:hover {\n",
              "      background-color: #E2EBFA;\n",
              "      box-shadow: 0px 1px 2px rgba(60, 64, 67, 0.3), 0px 1px 3px 1px rgba(60, 64, 67, 0.15);\n",
              "      fill: #174EA6;\n",
              "    }\n",
              "\n",
              "    [theme=dark] .colab-df-convert {\n",
              "      background-color: #3B4455;\n",
              "      fill: #D2E3FC;\n",
              "    }\n",
              "\n",
              "    [theme=dark] .colab-df-convert:hover {\n",
              "      background-color: #434B5C;\n",
              "      box-shadow: 0px 1px 3px 1px rgba(0, 0, 0, 0.15);\n",
              "      filter: drop-shadow(0px 1px 2px rgba(0, 0, 0, 0.3));\n",
              "      fill: #FFFFFF;\n",
              "    }\n",
              "  </style>\n",
              "\n",
              "      <script>\n",
              "        const buttonEl =\n",
              "          document.querySelector('#df-72e17c0d-18d3-475b-ae9e-d5818d15afb9 button.colab-df-convert');\n",
              "        buttonEl.style.display =\n",
              "          google.colab.kernel.accessAllowed ? 'block' : 'none';\n",
              "\n",
              "        async function convertToInteractive(key) {\n",
              "          const element = document.querySelector('#df-72e17c0d-18d3-475b-ae9e-d5818d15afb9');\n",
              "          const dataTable =\n",
              "            await google.colab.kernel.invokeFunction('convertToInteractive',\n",
              "                                                     [key], {});\n",
              "          if (!dataTable) return;\n",
              "\n",
              "          const docLinkHtml = 'Like what you see? Visit the ' +\n",
              "            '<a target=\"_blank\" href=https://colab.research.google.com/notebooks/data_table.ipynb>data table notebook</a>'\n",
              "            + ' to learn more about interactive tables.';\n",
              "          element.innerHTML = '';\n",
              "          dataTable['output_type'] = 'display_data';\n",
              "          await google.colab.output.renderOutput(dataTable, element);\n",
              "          const docLink = document.createElement('div');\n",
              "          docLink.innerHTML = docLinkHtml;\n",
              "          element.appendChild(docLink);\n",
              "        }\n",
              "      </script>\n",
              "    </div>\n",
              "  </div>\n",
              "  "
            ]
          },
          "metadata": {},
          "execution_count": 114
        }
      ]
    },
    {
      "cell_type": "code",
      "source": [
        "df_HVC.to_excel('HVC_final.xlsx', index=False)"
      ],
      "metadata": {
        "id": "rruS3pUa_2Ls"
      },
      "execution_count": null,
      "outputs": []
    },
    {
      "cell_type": "code",
      "source": [],
      "metadata": {
        "id": "WoFyDJwOACOH"
      },
      "execution_count": null,
      "outputs": []
    }
  ],
  "metadata": {
    "colab": {
      "provenance": []
    },
    "kernelspec": {
      "display_name": "Python 3",
      "name": "python3"
    },
    "language_info": {
      "name": "python"
    }
  },
  "nbformat": 4,
  "nbformat_minor": 0
}