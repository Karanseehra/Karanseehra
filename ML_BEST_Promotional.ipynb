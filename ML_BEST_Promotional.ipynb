{
  "cells": [
    {
      "cell_type": "code",
      "execution_count": null,
      "metadata": {
        "id": "BR56khJMhNs-"
      },
      "outputs": [],
      "source": [
        "import numpy as np\n",
        "import matplotlib.pyplot as plt\n",
        "import seaborn as sns\n",
        "import pandas as pd"
      ]
    },
    {
      "cell_type": "code",
      "execution_count": null,
      "metadata": {
        "id": "_4OK2S2fh84-"
      },
      "outputs": [],
      "source": [
        "df_HVC = pd.read_excel('HVC_final.xlsx')"
      ]
    },
    {
      "cell_type": "code",
      "execution_count": null,
      "metadata": {
        "colab": {
          "base_uri": "https://localhost:8080/",
          "height": 424
        },
        "id": "O6sra5bOiOof",
        "outputId": "d1524e58-e2e8-41cc-fd66-dd76f5523353"
      },
      "outputs": [
        {
          "data": {
            "text/html": [
              "\n",
              "  <div id=\"df-cb29a24d-c394-424f-a0e9-851b0843b703\">\n",
              "    <div class=\"colab-df-container\">\n",
              "      <div>\n",
              "<style scoped>\n",
              "    .dataframe tbody tr th:only-of-type {\n",
              "        vertical-align: middle;\n",
              "    }\n",
              "\n",
              "    .dataframe tbody tr th {\n",
              "        vertical-align: top;\n",
              "    }\n",
              "\n",
              "    .dataframe thead th {\n",
              "        text-align: right;\n",
              "    }\n",
              "</style>\n",
              "<table border=\"1\" class=\"dataframe\">\n",
              "  <thead>\n",
              "    <tr style=\"text-align: right;\">\n",
              "      <th></th>\n",
              "      <th>Sales_Rep_Calls</th>\n",
              "      <th>Samples_Dropped</th>\n",
              "      <th>Physician_Segment</th>\n",
              "      <th>Emails_Delivered</th>\n",
              "      <th>Physician_Segment_encoded</th>\n",
              "      <th>Brand_Rx</th>\n",
              "    </tr>\n",
              "  </thead>\n",
              "  <tbody>\n",
              "    <tr>\n",
              "      <th>0</th>\n",
              "      <td>1</td>\n",
              "      <td>0</td>\n",
              "      <td>3-Low</td>\n",
              "      <td>0</td>\n",
              "      <td>0.245696</td>\n",
              "      <td>0.0</td>\n",
              "    </tr>\n",
              "    <tr>\n",
              "      <th>1</th>\n",
              "      <td>1</td>\n",
              "      <td>0</td>\n",
              "      <td>3-Low</td>\n",
              "      <td>0</td>\n",
              "      <td>0.245696</td>\n",
              "      <td>0.0</td>\n",
              "    </tr>\n",
              "    <tr>\n",
              "      <th>2</th>\n",
              "      <td>1</td>\n",
              "      <td>0</td>\n",
              "      <td>3-Low</td>\n",
              "      <td>0</td>\n",
              "      <td>0.245696</td>\n",
              "      <td>0.0</td>\n",
              "    </tr>\n",
              "    <tr>\n",
              "      <th>3</th>\n",
              "      <td>1</td>\n",
              "      <td>5</td>\n",
              "      <td>3-Low</td>\n",
              "      <td>0</td>\n",
              "      <td>0.245696</td>\n",
              "      <td>0.0</td>\n",
              "    </tr>\n",
              "    <tr>\n",
              "      <th>4</th>\n",
              "      <td>1</td>\n",
              "      <td>0</td>\n",
              "      <td>3-Low</td>\n",
              "      <td>0</td>\n",
              "      <td>0.245696</td>\n",
              "      <td>0.0</td>\n",
              "    </tr>\n",
              "    <tr>\n",
              "      <th>...</th>\n",
              "      <td>...</td>\n",
              "      <td>...</td>\n",
              "      <td>...</td>\n",
              "      <td>...</td>\n",
              "      <td>...</td>\n",
              "      <td>...</td>\n",
              "    </tr>\n",
              "    <tr>\n",
              "      <th>569995</th>\n",
              "      <td>0</td>\n",
              "      <td>0</td>\n",
              "      <td>3-Low</td>\n",
              "      <td>1</td>\n",
              "      <td>0.245696</td>\n",
              "      <td>0.0</td>\n",
              "    </tr>\n",
              "    <tr>\n",
              "      <th>569996</th>\n",
              "      <td>0</td>\n",
              "      <td>0</td>\n",
              "      <td>3-Low</td>\n",
              "      <td>0</td>\n",
              "      <td>0.245696</td>\n",
              "      <td>0.0</td>\n",
              "    </tr>\n",
              "    <tr>\n",
              "      <th>569997</th>\n",
              "      <td>0</td>\n",
              "      <td>0</td>\n",
              "      <td>3-Low</td>\n",
              "      <td>1</td>\n",
              "      <td>0.245696</td>\n",
              "      <td>0.0</td>\n",
              "    </tr>\n",
              "    <tr>\n",
              "      <th>569998</th>\n",
              "      <td>0</td>\n",
              "      <td>0</td>\n",
              "      <td>3-Low</td>\n",
              "      <td>1</td>\n",
              "      <td>0.245696</td>\n",
              "      <td>0.0</td>\n",
              "    </tr>\n",
              "    <tr>\n",
              "      <th>569999</th>\n",
              "      <td>0</td>\n",
              "      <td>0</td>\n",
              "      <td>3-Low</td>\n",
              "      <td>0</td>\n",
              "      <td>0.245696</td>\n",
              "      <td>0.0</td>\n",
              "    </tr>\n",
              "  </tbody>\n",
              "</table>\n",
              "<p>570000 rows × 6 columns</p>\n",
              "</div>\n",
              "      <button class=\"colab-df-convert\" onclick=\"convertToInteractive('df-cb29a24d-c394-424f-a0e9-851b0843b703')\"\n",
              "              title=\"Convert this dataframe to an interactive table.\"\n",
              "              style=\"display:none;\">\n",
              "        \n",
              "  <svg xmlns=\"http://www.w3.org/2000/svg\" height=\"24px\"viewBox=\"0 0 24 24\"\n",
              "       width=\"24px\">\n",
              "    <path d=\"M0 0h24v24H0V0z\" fill=\"none\"/>\n",
              "    <path d=\"M18.56 5.44l.94 2.06.94-2.06 2.06-.94-2.06-.94-.94-2.06-.94 2.06-2.06.94zm-11 1L8.5 8.5l.94-2.06 2.06-.94-2.06-.94L8.5 2.5l-.94 2.06-2.06.94zm10 10l.94 2.06.94-2.06 2.06-.94-2.06-.94-.94-2.06-.94 2.06-2.06.94z\"/><path d=\"M17.41 7.96l-1.37-1.37c-.4-.4-.92-.59-1.43-.59-.52 0-1.04.2-1.43.59L10.3 9.45l-7.72 7.72c-.78.78-.78 2.05 0 2.83L4 21.41c.39.39.9.59 1.41.59.51 0 1.02-.2 1.41-.59l7.78-7.78 2.81-2.81c.8-.78.8-2.07 0-2.86zM5.41 20L4 18.59l7.72-7.72 1.47 1.35L5.41 20z\"/>\n",
              "  </svg>\n",
              "      </button>\n",
              "      \n",
              "  <style>\n",
              "    .colab-df-container {\n",
              "      display:flex;\n",
              "      flex-wrap:wrap;\n",
              "      gap: 12px;\n",
              "    }\n",
              "\n",
              "    .colab-df-convert {\n",
              "      background-color: #E8F0FE;\n",
              "      border: none;\n",
              "      border-radius: 50%;\n",
              "      cursor: pointer;\n",
              "      display: none;\n",
              "      fill: #1967D2;\n",
              "      height: 32px;\n",
              "      padding: 0 0 0 0;\n",
              "      width: 32px;\n",
              "    }\n",
              "\n",
              "    .colab-df-convert:hover {\n",
              "      background-color: #E2EBFA;\n",
              "      box-shadow: 0px 1px 2px rgba(60, 64, 67, 0.3), 0px 1px 3px 1px rgba(60, 64, 67, 0.15);\n",
              "      fill: #174EA6;\n",
              "    }\n",
              "\n",
              "    [theme=dark] .colab-df-convert {\n",
              "      background-color: #3B4455;\n",
              "      fill: #D2E3FC;\n",
              "    }\n",
              "\n",
              "    [theme=dark] .colab-df-convert:hover {\n",
              "      background-color: #434B5C;\n",
              "      box-shadow: 0px 1px 3px 1px rgba(0, 0, 0, 0.15);\n",
              "      filter: drop-shadow(0px 1px 2px rgba(0, 0, 0, 0.3));\n",
              "      fill: #FFFFFF;\n",
              "    }\n",
              "  </style>\n",
              "\n",
              "      <script>\n",
              "        const buttonEl =\n",
              "          document.querySelector('#df-cb29a24d-c394-424f-a0e9-851b0843b703 button.colab-df-convert');\n",
              "        buttonEl.style.display =\n",
              "          google.colab.kernel.accessAllowed ? 'block' : 'none';\n",
              "\n",
              "        async function convertToInteractive(key) {\n",
              "          const element = document.querySelector('#df-cb29a24d-c394-424f-a0e9-851b0843b703');\n",
              "          const dataTable =\n",
              "            await google.colab.kernel.invokeFunction('convertToInteractive',\n",
              "                                                     [key], {});\n",
              "          if (!dataTable) return;\n",
              "\n",
              "          const docLinkHtml = 'Like what you see? Visit the ' +\n",
              "            '<a target=\"_blank\" href=https://colab.research.google.com/notebooks/data_table.ipynb>data table notebook</a>'\n",
              "            + ' to learn more about interactive tables.';\n",
              "          element.innerHTML = '';\n",
              "          dataTable['output_type'] = 'display_data';\n",
              "          await google.colab.output.renderOutput(dataTable, element);\n",
              "          const docLink = document.createElement('div');\n",
              "          docLink.innerHTML = docLinkHtml;\n",
              "          element.appendChild(docLink);\n",
              "        }\n",
              "      </script>\n",
              "    </div>\n",
              "  </div>\n",
              "  "
            ],
            "text/plain": [
              "        Sales_Rep_Calls  Samples_Dropped Physician_Segment  Emails_Delivered  \\\n",
              "0                     1                0             3-Low                 0   \n",
              "1                     1                0             3-Low                 0   \n",
              "2                     1                0             3-Low                 0   \n",
              "3                     1                5             3-Low                 0   \n",
              "4                     1                0             3-Low                 0   \n",
              "...                 ...              ...               ...               ...   \n",
              "569995                0                0             3-Low                 1   \n",
              "569996                0                0             3-Low                 0   \n",
              "569997                0                0             3-Low                 1   \n",
              "569998                0                0             3-Low                 1   \n",
              "569999                0                0             3-Low                 0   \n",
              "\n",
              "        Physician_Segment_encoded  Brand_Rx  \n",
              "0                        0.245696       0.0  \n",
              "1                        0.245696       0.0  \n",
              "2                        0.245696       0.0  \n",
              "3                        0.245696       0.0  \n",
              "4                        0.245696       0.0  \n",
              "...                           ...       ...  \n",
              "569995                   0.245696       0.0  \n",
              "569996                   0.245696       0.0  \n",
              "569997                   0.245696       0.0  \n",
              "569998                   0.245696       0.0  \n",
              "569999                   0.245696       0.0  \n",
              "\n",
              "[570000 rows x 6 columns]"
            ]
          },
          "execution_count": 36,
          "metadata": {},
          "output_type": "execute_result"
        }
      ],
      "source": [
        "df_HVC"
      ]
    },
    {
      "cell_type": "code",
      "execution_count": null,
      "metadata": {
        "colab": {
          "base_uri": "https://localhost:8080/"
        },
        "id": "OhNAfh7o3Sod",
        "outputId": "f42e44d1-d01f-48b0-9c64-98ebf8b20e67"
      },
      "outputs": [
        {
          "data": {
            "text/plain": [
              "368028"
            ]
          },
          "execution_count": 5,
          "metadata": {},
          "output_type": "execute_result"
        }
      ],
      "source": [
        "(df_HVC['Brand_Rx'] == 0).sum()"
      ]
    },
    {
      "cell_type": "code",
      "execution_count": null,
      "metadata": {
        "colab": {
          "base_uri": "https://localhost:8080/"
        },
        "id": "7mlEah9WkrOU",
        "outputId": "0d656fc1-9c0c-4570-bf1b-b8ae62a138f4"
      },
      "outputs": [
        {
          "data": {
            "text/plain": [
              "list"
            ]
          },
          "execution_count": 34,
          "metadata": {},
          "output_type": "execute_result"
        }
      ],
      "source": [
        "# Split the dataframe into 3 equal parts\n",
        "split_data = np.array_split(df_HVC, 10000)\n",
        "\n",
        "# Access the first part of the split data\n",
        "type(split_data)"
      ]
    },
    {
      "cell_type": "markdown",
      "source": [
        "### Applying different regression algorithms to assess best promotional channel for each of HCP"
      ],
      "metadata": {
        "id": "Oo3OJObPR6Ve"
      }
    },
    {
      "cell_type": "code",
      "execution_count": null,
      "metadata": {
        "id": "UDGLvSrQndJ3"
      },
      "outputs": [],
      "source": [
        "from sklearn.tree import DecisionTreeRegressor\n",
        "from sklearn.model_selection import train_test_split\n",
        "\n",
        "y_pred_f = []\n",
        "y_test_f = []\n",
        "for data in split_data:\n",
        "# Assume that you have a Pandas dataframe called \"df\" with a feature column \"X\" and a target column \"y\"\n",
        "  X = data[['Sales_Rep_Calls','Samples_Dropped',\t'Emails_Delivered',\t'Physician_Segment_encoded']]\n",
        "  y = data['Brand_Rx']  # select the \"y\" column as the target\n",
        "\n",
        "  # Split the data into training and test sets\n",
        "  X_train, X_test, y_train, y_test = train_test_split(X, y, test_size=0.015, random_state=42)\n",
        "  model = DecisionTreeRegressor()\n",
        "  model.fit(X_train, y_train)\n",
        "  y_pred = model.predict(X_test)\n",
        "  y_test_f.append(y_test)\n",
        "  y_pred_f.append(y_pred)\n",
        "  "
      ]
    },
    {
      "cell_type": "code",
      "execution_count": null,
      "metadata": {
        "colab": {
          "base_uri": "https://localhost:8080/"
        },
        "id": "buU28fg1babe",
        "outputId": "44fa6a69-8fd0-4d06-f493-b3f2de203ac7"
      },
      "outputs": [
        {
          "name": "stdout",
          "output_type": "stream",
          "text": [
            "MSE: 0.95\n",
            "RMSE: 0.97\n",
            "R2: 0.37\n"
          ]
        }
      ],
      "source": [
        "from sklearn.metrics import mean_squared_error\n",
        "from sklearn.metrics import r2_score\n",
        "import math\n",
        "# Calculate the MSE\n",
        "mse = mean_squared_error(y_test_f, y_pred_f)\n",
        "print(f'MSE: {mse:.2f}')\n",
        "rmse = math.sqrt(mse)\n",
        "print(f'RMSE: {rmse:.2f}')\n",
        "r2 = r2_score(y_test_f, y_pred_f)\n",
        "print(f'R2: {r2:.2f}')"
      ]
    },
    {
      "cell_type": "code",
      "execution_count": null,
      "metadata": {
        "id": "zZUWZZj7pU9F"
      },
      "outputs": [],
      "source": [
        "y_pred_f = np.array(y_pred_f)\n",
        "y_pred_f = y_pred_f.tolist()"
      ]
    },
    {
      "cell_type": "code",
      "execution_count": null,
      "metadata": {
        "colab": {
          "base_uri": "https://localhost:8080/",
          "height": 265
        },
        "id": "j7bS8hdPuNL0",
        "outputId": "14922c9a-0b44-4ba6-9200-eb887655d587"
      },
      "outputs": [
        {
          "data": {
            "image/png": "[encoded data removed]",
            "text/plain": [
              "<Figure size 432x288 with 1 Axes>"
            ]
          },
          "metadata": {},
          "output_type": "display_data"
        }
      ],
      "source": [
        "plt.xlim(0, 15)\n",
        "plt.ylim(0, 15)\n",
        "plt.scatter(x = y_pred_f[:100], y = y_test_f[:100])\n",
        "\n",
        "# Show the plot\n",
        "plt.show()"
      ]
    },
    {
      "cell_type": "code",
      "execution_count": null,
      "metadata": {
        "id": "3-_SYrDOxdox"
      },
      "outputs": [],
      "source": [
        "# Import libraries\n",
        "from sklearn.preprocessing import PolynomialFeatures\n",
        "from sklearn.linear_model import LinearRegression\n",
        "\n",
        "from sklearn.model_selection import train_test_split\n",
        "\n",
        "y_pred_f = []\n",
        "y_test_f = []\n",
        "for data in split_data:\n",
        "# Assume that you have a Pandas dataframe called \"df\" with a feature column \"X\" and a target column \"y\"\n",
        "  X = data[['Sales_Rep_Calls','Samples_Dropped',\t'Emails_Delivered',\t'Physician_Segment_encoded']]\n",
        "  y = data['Brand_Rx']  # select the \"y\" column as the target\n",
        "\n",
        "  # Split the data into training and test sets\n",
        "  X_train, X_test, y_train, y_test = train_test_split(X, y, test_size=0.015, random_state=42)\n",
        "  # Create an instance of PolynomialFeatures\n",
        "  poly_features = PolynomialFeatures(degree=7)\n",
        "\n",
        "  # Transform the independent variable\n",
        "  X_poly = poly_features.fit_transform(X)\n",
        "\n",
        "  # Create an instance of LinearRegression\n",
        "  model = LinearRegression()\n",
        "\n",
        "  # Fit the model to the training data\n",
        "  model.fit(X_poly, y)\n",
        "\n",
        "  # Make predictions on the test data\n",
        "  y_pred = model.predict(poly_features.transform(X_test))\n",
        "  y_test_f.append(y_test)\n",
        "  y_pred_f.append(y_pred)"
      ]
    },
    {
      "cell_type": "code",
      "execution_count": null,
      "metadata": {
        "colab": {
          "base_uri": "https://localhost:8080/"
        },
        "id": "uIUOLhVEwQF1",
        "outputId": "d25d39b4-84de-4f8c-f909-755387f04db7"
      },
      "outputs": [
        {
          "data": {
            "text/plain": [
              "330"
            ]
          },
          "execution_count": 40,
          "metadata": {},
          "output_type": "execute_result"
        }
      ],
      "source": [
        "coefficients = model.coef_\n",
        "coefficients.size"
      ]
    },
    {
      "cell_type": "code",
      "execution_count": null,
      "metadata": {
        "colab": {
          "base_uri": "https://localhost:8080/"
        },
        "id": "z5diZIv2Su84",
        "outputId": "bdf374fa-24cb-41f9-8f55-349352b7848c"
      },
      "outputs": [
        {
          "data": {
            "text/plain": [
              "0.6068615"
            ]
          },
          "execution_count": 32,
          "metadata": {},
          "output_type": "execute_result"
        }
      ],
      "source": [
        "np.mean(np.array(y_test_f))"
      ]
    },
    {
      "cell_type": "code",
      "execution_count": null,
      "metadata": {
        "colab": {
          "base_uri": "https://localhost:8080/"
        },
        "id": "ym2NzAxtS4Rl",
        "outputId": "c05762ce-cf52-4c8c-c676-ab9b660861b9"
      },
      "outputs": [
        {
          "data": {
            "text/plain": [
              "0.6690643599236304"
            ]
          },
          "execution_count": 33,
          "metadata": {},
          "output_type": "execute_result"
        }
      ],
      "source": [
        "np.mean(np.array(y_pred_f))"
      ]
    },
    {
      "cell_type": "code",
      "execution_count": null,
      "metadata": {
        "id": "eij9NR8tJtgx"
      },
      "outputs": [],
      "source": [
        "y_test_f = [item[0] for item in np.array(y_test_f).tolist()]\n"
      ]
    },
    {
      "cell_type": "code",
      "execution_count": null,
      "metadata": {
        "colab": {
          "base_uri": "https://localhost:8080/"
        },
        "id": "WSGK0D4ZKTnw",
        "outputId": "61aa3d22-4992-4cd3-b9a1-f01837729939"
      },
      "outputs": [
        {
          "name": "stdout",
          "output_type": "stream",
          "text": [
            "MSE: 0.67\n",
            "RMSE: 0.82\n",
            "R2: 0.56\n"
          ]
        }
      ],
      "source": [
        "from sklearn.metrics import mean_squared_error\n",
        "from sklearn.metrics import r2_score\n",
        "import math\n",
        "# Calculate the MSE\n",
        "mse = mean_squared_error(y_test_f, y_pred_f)\n",
        "print(f'MSE: {mse:.2f}')\n",
        "rmse = math.sqrt(mse)\n",
        "print(f'RMSE: {rmse:.2f}')\n",
        "r2 = r2_score(y_test_f, y_pred_f)\n",
        "print(f'R2: {r2:.2f}')"
      ]
    },
    {
      "cell_type": "code",
      "execution_count": null,
      "metadata": {
        "colab": {
          "base_uri": "https://localhost:8080/",
          "height": 265
        },
        "id": "fZYFZtkHLKlt",
        "outputId": "4ae13293-654d-42f2-c40b-1bce9bc77be6"
      },
      "outputs": [
        {
          "data": {
            "image/png": "[encoded data removed]",
            "text/plain": [
              "<Figure size 432x288 with 1 Axes>"
            ]
          },
          "metadata": {},
          "output_type": "display_data"
        }
      ],
      "source": [
        "plt.xlim(0, 15)\n",
        "plt.ylim(0, 15)\n",
        "plt.scatter(x = y_pred_f[:1000], y = y_test_f[:1000])\n",
        "\n",
        "# Show the plot\n",
        "plt.show()"
      ]
    },
    {
      "cell_type": "code",
      "execution_count": null,
      "metadata": {
        "id": "U_3EI6M7PbFN"
      },
      "outputs": [],
      "source": [
        "from sklearn.ensemble import GradientBoostingRegressor\n",
        "from sklearn.model_selection import train_test_split\n",
        "\n",
        "y_pred_f = []\n",
        "y_test_f = []\n",
        "for data in split_data:\n",
        "# Assume that you have a Pandas dataframe called \"df\" with a feature column \"X\" and a target column \"y\"\n",
        "  X = data[['Sales_Rep_Calls','Samples_Dropped',\t'Emails_Delivered',\t'Physician_Segment_encoded']]\n",
        "  y = data['Brand_Rx']  # select the \"y\" column as the target\n",
        "\n",
        "  # Split the data into training and test sets\n",
        "  X_train, X_test, y_train, y_test = train_test_split(X, y, test_size=0.015, random_state=42)\n",
        "  # Create an instance of PolynomialFeatures\n",
        "\n",
        "  # Create a gradient boosting regressor\n",
        "  gbr = GradientBoostingRegressor(n_estimators=100, learning_rate=0.1, max_depth=7)\n",
        "\n",
        "  # Fit the regressor to the training data\n",
        "  gbr.fit(X_train, y_train)\n",
        "\n",
        "  # Use the regressor to make predictions on the test data\n",
        "  y_pred = gbr.predict(X_test)\n",
        "  y_test_f.append(y_test)\n",
        "  y_pred_f.append(y_pred)"
      ]
    },
    {
      "cell_type": "code",
      "execution_count": null,
      "metadata": {
        "colab": {
          "base_uri": "https://localhost:8080/"
        },
        "id": "7sDmj8Jjipe0",
        "outputId": "9a468404-a2be-4384-9bb9-a20c4664d7c5"
      },
      "outputs": [
        {
          "name": "stdout",
          "output_type": "stream",
          "text": [
            "MSE: 0.93\n",
            "RMSE: 0.97\n",
            "R2: 0.38\n"
          ]
        }
      ],
      "source": [
        "from sklearn.metrics import mean_squared_error\n",
        "from sklearn.metrics import r2_score\n",
        "import math\n",
        "# Calculate the MSE\n",
        "mse = mean_squared_error(y_test_f, y_pred_f)\n",
        "print(f'MSE: {mse:.2f}')\n",
        "rmse = math.sqrt(mse)\n",
        "print(f'RMSE: {rmse:.2f}')\n",
        "r2 = r2_score(y_test_f, y_pred_f)\n",
        "print(f'R2: {r2:.2f}')"
      ]
    },
    {
      "cell_type": "code",
      "execution_count": null,
      "metadata": {
        "id": "ivycg7CEjFUa"
      },
      "outputs": [],
      "source": [
        "from sklearn.ensemble import RandomForestRegressor\n",
        "from sklearn.model_selection import train_test_split\n",
        "\n",
        "y_pred_f = []\n",
        "y_test_f = []\n",
        "for data in split_data:\n",
        "# Assume that you have a Pandas dataframe called \"df\" with a feature column \"X\" and a target column \"y\"\n",
        "  X = data[['Sales_Rep_Calls','Samples_Dropped',\t'Emails_Delivered',\t'Physician_Segment_encoded']]\n",
        "  y = data['Brand_Rx']  # select the \"y\" column as the target\n",
        "\n",
        "  # Split the data into training and test sets\n",
        "  X_train, X_test, y_train, y_test = train_test_split(X, y, test_size=0.015, random_state=42)\n",
        "\n",
        "  # Create a random forest regressor\n",
        "  rfr = RandomForestRegressor(n_estimators=100, max_depth=3)\n",
        "\n",
        "  # Fit the regressor to the training data\n",
        "  rfr.fit(X_train, y_train)\n",
        "\n",
        "  # Use the regressor to make predictions on the test data\n",
        "  y_pred = rfr.predict(X_test)\n",
        "  y_test_f.append(y_test)\n",
        "  y_pred_f.append(y_pred)"
      ]
    },
    {
      "cell_type": "code",
      "execution_count": null,
      "metadata": {
        "colab": {
          "base_uri": "https://localhost:8080/"
        },
        "id": "KANrUnshjsEP",
        "outputId": "b3116bc1-8674-4e23-da9e-4e1e14aa4226"
      },
      "outputs": [
        {
          "name": "stdout",
          "output_type": "stream",
          "text": [
            "MSE: 0.84\n",
            "RMSE: 0.92\n",
            "R2: 0.45\n"
          ]
        }
      ],
      "source": [
        "from sklearn.metrics import mean_squared_error\n",
        "from sklearn.metrics import r2_score\n",
        "import math\n",
        "# Calculate the MSE\n",
        "mse = mean_squared_error(y_test_f, y_pred_f)\n",
        "print(f'MSE: {mse:.2f}')\n",
        "rmse = math.sqrt(mse)\n",
        "print(f'RMSE: {rmse:.2f}')\n",
        "r2 = r2_score(y_test_f, y_pred_f)\n",
        "print(f'R2: {r2:.2f}')"
      ]
    },
    {
      "cell_type": "code",
      "execution_count": null,
      "metadata": {
        "colab": {
          "base_uri": "https://localhost:8080/",
          "height": 297
        },
        "id": "cuG619Y4qt4j",
        "outputId": "35ca4f95-b158-414e-ea09-9f8d04a34c25"
      },
      "outputs": [
        {
          "data": {
            "text/plain": [
              "<matplotlib.axes._subplots.AxesSubplot at 0x7f50b1248c40>"
            ]
          },
          "execution_count": 22,
          "metadata": {},
          "output_type": "execute_result"
        },
        {
          "data": {
            "image/png": "[encoded data removed]",
            "text/plain": [
              "<Figure size 432x288 with 1 Axes>"
            ]
          },
          "metadata": {},
          "output_type": "display_data"
        }
      ],
      "source": [
        "sns.boxplot(x = df_HVC['Emails_Delivered'], y = df_HVC['Brand_Rx'], data = df_HVC)"
      ]
    },
    {
      "cell_type": "code",
      "execution_count": null,
      "metadata": {
        "colab": {
          "base_uri": "https://localhost:8080/",
          "height": 297
        },
        "id": "4XQNvYc2A_Gc",
        "outputId": "b9c3e151-c9dc-4ba1-d944-d8301df88bb5"
      },
      "outputs": [
        {
          "data": {
            "text/plain": [
              "<matplotlib.axes._subplots.AxesSubplot at 0x7f50b130e9a0>"
            ]
          },
          "execution_count": 21,
          "metadata": {},
          "output_type": "execute_result"
        },
        {
          "data": {
            "image/png": "[encoded data removed]",
            "text/plain": [
              "<Figure size 432x288 with 1 Axes>"
            ]
          },
          "metadata": {},
          "output_type": "display_data"
        }
      ],
      "source": [
        "sns.boxplot(x = df_HVC['Sales_Rep_Calls'], y = df_HVC['Brand_Rx'], data = df_HVC)"
      ]
    },
    {
      "cell_type": "code",
      "execution_count": null,
      "metadata": {
        "colab": {
          "base_uri": "https://localhost:8080/",
          "height": 297
        },
        "id": "dGsjeNluBmiT",
        "outputId": "0a54a851-1d74-477a-ec0b-a333d4f13657"
      },
      "outputs": [
        {
          "data": {
            "text/plain": [
              "<matplotlib.axes._subplots.AxesSubplot at 0x7f50b94d4a60>"
            ]
          },
          "execution_count": 20,
          "metadata": {},
          "output_type": "execute_result"
        },
        {
          "data": {
            "image/png": "[encoded data removed]",
            "text/plain": [
              "<Figure size 432x288 with 1 Axes>"
            ]
          },
          "metadata": {},
          "output_type": "display_data"
        }
      ],
      "source": [
        "sns.boxplot(x = df_HVC['Samples_Dropped'], y = df_HVC['Brand_Rx'], data = df_HVC)"
      ]
    },
    {
      "cell_type": "code",
      "execution_count": null,
      "metadata": {
        "colab": {
          "base_uri": "https://localhost:8080/",
          "height": 297
        },
        "id": "1DDCp25ZFK2j",
        "outputId": "2ff34099-51d3-4f3b-e0fe-6f34b4096897"
      },
      "outputs": [
        {
          "data": {
            "text/plain": [
              "<matplotlib.axes._subplots.AxesSubplot at 0x7f50b10dd1f0>"
            ]
          },
          "execution_count": 24,
          "metadata": {},
          "output_type": "execute_result"
        },
        {
          "data": {
            "image/png": "[encoded data removed]",
            "text/plain": [
              "<Figure size 432x288 with 1 Axes>"
            ]
          },
          "metadata": {},
          "output_type": "display_data"
        }
      ],
      "source": [
        "sns.boxplot(x = df_HVC['Physician_Segment_encoded'], y = df_HVC['Brand_Rx'], data = df_HVC)"
      ]
    },
    {
      "cell_type": "code",
      "execution_count": null,
      "metadata": {
        "colab": {
          "base_uri": "https://localhost:8080/"
        },
        "id": "sH4CSK9sNVM2",
        "outputId": "f975fc75-2399-499b-a162-75eb86ee5059"
      },
      "outputs": [
        {
          "data": {
            "text/plain": [
              "array([0.24569557, 1.77000658, 0.52019164])"
            ]
          },
          "execution_count": 6,
          "metadata": {},
          "output_type": "execute_result"
        }
      ],
      "source": [
        "df_HVC['Physician_Segment_encoded'].unique()"
      ]
    }
  ],
  "metadata": {
    "colab": {
      "provenance": []
    },
    "kernelspec": {
      "display_name": "Python 3",
      "name": "python3"
    },
    "language_info": {
      "name": "python"
    }
  },
  "nbformat": 4,
  "nbformat_minor": 0
}